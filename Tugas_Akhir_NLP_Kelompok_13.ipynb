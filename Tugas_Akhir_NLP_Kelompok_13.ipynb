{
  "nbformat": 4,
  "nbformat_minor": 0,
  "metadata": {
    "colab": {
      "name": "Tugas Akhir NLP Kelompok 13",
      "provenance": [],
      "collapsed_sections": [
        "syDon3s4Lsfn",
        "j9BMjLpfLyuu",
        "ok4RkzUHPD_P"
      ],
      "include_colab_link": true
    },
    "kernelspec": {
      "display_name": "Python 3",
      "name": "python3"
    },
    "language_info": {
      "name": "python"
    }
  },
  "cells": [
    {
      "cell_type": "markdown",
      "metadata": {
        "id": "view-in-github",
        "colab_type": "text"
      },
      "source": [
        "<a href=\"https://colab.research.google.com/github/daffabilnadzary1/Topic-Modelling-using-LDA/blob/main/Tugas_Akhir_NLP_Kelompok_13.ipynb\" target=\"_parent\"><img src=\"https://colab.research.google.com/assets/colab-badge.svg\" alt=\"Open In Colab\"/></a>"
      ]
    },
    {
      "cell_type": "markdown",
      "metadata": {
        "id": "B4fhGX0nbe2Y"
      },
      "source": [
        "##**NLP Final Project**\n",
        "##**Topic Modelling for Headline News using Latent Dirichlet Allocation**\n",
        "###Kelompok 13\n",
        "###Anggota:\n",
        "1. Daffa Bil Nadzary (19/439811/TK/48541)\n",
        "2. Haning Jihan Pertiwi (19/439813/TK/48543)\n",
        "3. Muhammad Naufal Hakim (19/440307/TK/48634)"
      ]
    },
    {
      "cell_type": "markdown",
      "metadata": {
        "id": "cHGWoIh_b_xZ"
      },
      "source": [
        "##Starting"
      ]
    },
    {
      "cell_type": "code",
      "metadata": {
        "colab": {
          "base_uri": "https://localhost:8080/"
        },
        "id": "bMMyDDthH3sQ",
        "outputId": "ba7e229e-f85e-40b2-d57e-ba93f4753dd7"
      },
      "source": [
        "from google.colab import drive\n",
        "drive.mount('/content/drive')"
      ],
      "execution_count": null,
      "outputs": [
        {
          "output_type": "stream",
          "name": "stdout",
          "text": [
            "Drive already mounted at /content/drive; to attempt to forcibly remount, call drive.mount(\"/content/drive\", force_remount=True).\n"
          ]
        }
      ]
    },
    {
      "cell_type": "markdown",
      "metadata": {
        "id": "ME2hyiJHLOcR"
      },
      "source": [
        "##Import and Upgrade Some of the Libraries Needed"
      ]
    },
    {
      "cell_type": "code",
      "metadata": {
        "id": "wk2Vgblfe2_O"
      },
      "source": [
        "import numpy as np\n",
        "import pandas as pd\n",
        "import matplotlib.pyplot as plt\n",
        "\n",
        "#used to clean and tokenize our strings\n",
        "import re, string, unicodedata \n",
        "import nltk\n",
        "from nltk import word_tokenize, sent_tokenize\n",
        "from nltk.corpus import stopwords\n",
        "\n",
        "#Used to create our LDA model\n",
        "from gensim.models.coherencemodel import CoherenceModel\n",
        "from gensim.models.ldamodel import LdaModel\n",
        "from gensim.corpora.dictionary import Dictionary\n",
        "\n",
        "#For Creating Bigram & Trigram Models \n",
        "import gensim\n",
        "from gensim.models import Phrases\n",
        "from gensim import corpora, models\n",
        "\n",
        "#To visualize our LDA models\n",
        "import pyLDAvis\n",
        "import pyLDAvis.gensim_models as gensimvis\n",
        "\n",
        "from helper import *  \n",
        "import warnings\n",
        "warnings.filterwarnings('ignore')"
      ],
      "execution_count": null,
      "outputs": []
    },
    {
      "cell_type": "markdown",
      "metadata": {
        "id": "syDon3s4Lsfn"
      },
      "source": [
        "###Stopwords package is imported from NLTK"
      ]
    },
    {
      "cell_type": "code",
      "metadata": {
        "colab": {
          "base_uri": "https://localhost:8080/"
        },
        "id": "Rfjm_aj0jPrF",
        "outputId": "9dee489b-a6c1-4213-ac3c-db72543ccc7c"
      },
      "source": [
        "nltk.download('stopwords')\n",
        "nltk.download('punkt')"
      ],
      "execution_count": null,
      "outputs": [
        {
          "output_type": "stream",
          "name": "stdout",
          "text": [
            "[nltk_data] Downloading package stopwords to /root/nltk_data...\n",
            "[nltk_data]   Package stopwords is already up-to-date!\n",
            "[nltk_data] Downloading package punkt to /root/nltk_data...\n",
            "[nltk_data]   Package punkt is already up-to-date!\n"
          ]
        },
        {
          "output_type": "execute_result",
          "data": {
            "text/plain": [
              "True"
            ]
          },
          "metadata": {},
          "execution_count": 62
        }
      ]
    },
    {
      "cell_type": "code",
      "metadata": {
        "colab": {
          "base_uri": "https://localhost:8080/"
        },
        "id": "tdBl2p9M4Jws",
        "outputId": "74cee1ba-b0d1-4c4f-fe3f-8af218c4c1c8"
      },
      "source": [
        "!pip install pandas --upgrade"
      ],
      "execution_count": null,
      "outputs": [
        {
          "output_type": "stream",
          "name": "stdout",
          "text": [
            "Requirement already satisfied: pandas in /usr/local/lib/python3.7/dist-packages (1.3.4)\n",
            "Requirement already satisfied: pytz>=2017.3 in /usr/local/lib/python3.7/dist-packages (from pandas) (2018.9)\n",
            "Requirement already satisfied: python-dateutil>=2.7.3 in /usr/local/lib/python3.7/dist-packages (from pandas) (2.8.2)\n",
            "Requirement already satisfied: numpy>=1.17.3 in /usr/local/lib/python3.7/dist-packages (from pandas) (1.21.4)\n",
            "Requirement already satisfied: six>=1.5 in /usr/local/lib/python3.7/dist-packages (from python-dateutil>=2.7.3->pandas) (1.15.0)\n"
          ]
        }
      ]
    },
    {
      "cell_type": "code",
      "metadata": {
        "colab": {
          "base_uri": "https://localhost:8080/"
        },
        "id": "a3qtZF5Nrd7O",
        "outputId": "1a798da1-bfd4-4237-b778-bd5f63465673"
      },
      "source": [
        "!pip install pyLDAvis --upgrade"
      ],
      "execution_count": null,
      "outputs": [
        {
          "output_type": "stream",
          "name": "stdout",
          "text": [
            "Requirement already satisfied: pyLDAvis in /usr/local/lib/python3.7/dist-packages (3.3.1)\n",
            "Requirement already satisfied: scipy in /usr/local/lib/python3.7/dist-packages (from pyLDAvis) (1.4.1)\n",
            "Requirement already satisfied: scikit-learn in /usr/local/lib/python3.7/dist-packages (from pyLDAvis) (1.0.1)\n",
            "Requirement already satisfied: gensim in /usr/local/lib/python3.7/dist-packages (from pyLDAvis) (3.6.0)\n",
            "Requirement already satisfied: funcy in /usr/local/lib/python3.7/dist-packages (from pyLDAvis) (1.16)\n",
            "Requirement already satisfied: future in /usr/local/lib/python3.7/dist-packages (from pyLDAvis) (0.16.0)\n",
            "Requirement already satisfied: numpy>=1.20.0 in /usr/local/lib/python3.7/dist-packages (from pyLDAvis) (1.21.4)\n",
            "Requirement already satisfied: pandas>=1.2.0 in /usr/local/lib/python3.7/dist-packages (from pyLDAvis) (1.3.4)\n",
            "Requirement already satisfied: setuptools in /usr/local/lib/python3.7/dist-packages (from pyLDAvis) (57.4.0)\n",
            "Requirement already satisfied: jinja2 in /usr/local/lib/python3.7/dist-packages (from pyLDAvis) (2.11.3)\n",
            "Requirement already satisfied: joblib in /usr/local/lib/python3.7/dist-packages (from pyLDAvis) (1.1.0)\n",
            "Requirement already satisfied: sklearn in /usr/local/lib/python3.7/dist-packages (from pyLDAvis) (0.0)\n",
            "Requirement already satisfied: numexpr in /usr/local/lib/python3.7/dist-packages (from pyLDAvis) (2.7.3)\n",
            "Requirement already satisfied: pytz>=2017.3 in /usr/local/lib/python3.7/dist-packages (from pandas>=1.2.0->pyLDAvis) (2018.9)\n",
            "Requirement already satisfied: python-dateutil>=2.7.3 in /usr/local/lib/python3.7/dist-packages (from pandas>=1.2.0->pyLDAvis) (2.8.2)\n",
            "Requirement already satisfied: six>=1.5 in /usr/local/lib/python3.7/dist-packages (from python-dateutil>=2.7.3->pandas>=1.2.0->pyLDAvis) (1.15.0)\n",
            "Requirement already satisfied: smart-open>=1.2.1 in /usr/local/lib/python3.7/dist-packages (from gensim->pyLDAvis) (5.2.1)\n",
            "Requirement already satisfied: MarkupSafe>=0.23 in /usr/local/lib/python3.7/dist-packages (from jinja2->pyLDAvis) (2.0.1)\n",
            "Requirement already satisfied: threadpoolctl>=2.0.0 in /usr/local/lib/python3.7/dist-packages (from scikit-learn->pyLDAvis) (3.0.0)\n"
          ]
        }
      ]
    },
    {
      "cell_type": "markdown",
      "metadata": {
        "id": "j9BMjLpfLyuu"
      },
      "source": [
        "###List of stopwords in english"
      ]
    },
    {
      "cell_type": "code",
      "metadata": {
        "colab": {
          "base_uri": "https://localhost:8080/"
        },
        "id": "N1cQRdX6gciz",
        "outputId": "82318a7b-37da-4a27-abf7-eefd31a77d99"
      },
      "source": [
        "print(stopwords.words('english'))"
      ],
      "execution_count": null,
      "outputs": [
        {
          "output_type": "stream",
          "name": "stdout",
          "text": [
            "['i', 'me', 'my', 'myself', 'we', 'our', 'ours', 'ourselves', 'you', \"you're\", \"you've\", \"you'll\", \"you'd\", 'your', 'yours', 'yourself', 'yourselves', 'he', 'him', 'his', 'himself', 'she', \"she's\", 'her', 'hers', 'herself', 'it', \"it's\", 'its', 'itself', 'they', 'them', 'their', 'theirs', 'themselves', 'what', 'which', 'who', 'whom', 'this', 'that', \"that'll\", 'these', 'those', 'am', 'is', 'are', 'was', 'were', 'be', 'been', 'being', 'have', 'has', 'had', 'having', 'do', 'does', 'did', 'doing', 'a', 'an', 'the', 'and', 'but', 'if', 'or', 'because', 'as', 'until', 'while', 'of', 'at', 'by', 'for', 'with', 'about', 'against', 'between', 'into', 'through', 'during', 'before', 'after', 'above', 'below', 'to', 'from', 'up', 'down', 'in', 'out', 'on', 'off', 'over', 'under', 'again', 'further', 'then', 'once', 'here', 'there', 'when', 'where', 'why', 'how', 'all', 'any', 'both', 'each', 'few', 'more', 'most', 'other', 'some', 'such', 'no', 'nor', 'not', 'only', 'own', 'same', 'so', 'than', 'too', 'very', 's', 't', 'can', 'will', 'just', 'don', \"don't\", 'should', \"should've\", 'now', 'd', 'll', 'm', 'o', 're', 've', 'y', 'ain', 'aren', \"aren't\", 'couldn', \"couldn't\", 'didn', \"didn't\", 'doesn', \"doesn't\", 'hadn', \"hadn't\", 'hasn', \"hasn't\", 'haven', \"haven't\", 'isn', \"isn't\", 'ma', 'mightn', \"mightn't\", 'mustn', \"mustn't\", 'needn', \"needn't\", 'shan', \"shan't\", 'shouldn', \"shouldn't\", 'wasn', \"wasn't\", 'weren', \"weren't\", 'won', \"won't\", 'wouldn', \"wouldn't\"]\n"
          ]
        }
      ]
    },
    {
      "cell_type": "markdown",
      "metadata": {
        "id": "pqm-FDrWM61n"
      },
      "source": [
        "##Creating the preprocessing function, used to clean the dataset"
      ]
    },
    {
      "cell_type": "markdown",
      "metadata": {
        "id": "wyi5qYvwNLqw"
      },
      "source": [
        "###We're going to use regex to filter the string and remove punctuations"
      ]
    },
    {
      "cell_type": "code",
      "metadata": {
        "id": "ne7ODWuXfJmu"
      },
      "source": [
        "def stopwordRemover(str):\n",
        "    stopwords_list = set(stopwords.words('english'))\n",
        "    word_tokens = word_tokenize(str)\n",
        "    filtered = [x for x in word_tokens\n",
        "                if not x in stopwords_list]           #remove all the stopwords in the sentence if available\n",
        "    return ' '.join(filtered)\n",
        "    \n",
        "def cleaner(str):\n",
        "    #remove punctuations\n",
        "    str = re.sub(r'[^\\w]|_',' ',str)\n",
        "    #convert the string to lowecase\n",
        "    str = str.lower()\n",
        "    #remove unnecessary whitespaces\n",
        "    str = re.sub('[\\s]+', ' ', str)\n",
        "       \n",
        "    return str\n",
        "    \n",
        "def preprocessing(str):\n",
        "    str = cleaner(str)\n",
        "    str = stopwordRemover(str)\n",
        "    \n",
        "    return str"
      ],
      "execution_count": null,
      "outputs": []
    },
    {
      "cell_type": "markdown",
      "metadata": {
        "id": "_zTvaGQdOs1h"
      },
      "source": [
        "##Importing the dataset"
      ]
    },
    {
      "cell_type": "code",
      "metadata": {
        "id": "hZ97_Z0-h4db"
      },
      "source": [
        "#importing the dataset, connecting to my drive's session\n",
        "news_text = pd.read_csv('/content/drive/MyDrive/Tugas Akhir NLP/abcnews-date-text.csv')\n",
        "\n",
        "#removing the first column\n",
        "news_text_dropped = news_text.drop(columns=\"publish_date\")\n",
        "text = news_text_dropped.iloc[:1000]"
      ],
      "execution_count": null,
      "outputs": []
    },
    {
      "cell_type": "markdown",
      "metadata": {
        "id": "ok4RkzUHPD_P"
      },
      "source": [
        "###Overview of the dataset"
      ]
    },
    {
      "cell_type": "code",
      "metadata": {
        "colab": {
          "base_uri": "https://localhost:8080/",
          "height": 206
        },
        "id": "CJdSl0RhPF5E",
        "outputId": "4c7a66af-f028-46ae-8691-283d1e1f0902"
      },
      "source": [
        "text.head()"
      ],
      "execution_count": null,
      "outputs": [
        {
          "output_type": "execute_result",
          "data": {
            "text/html": [
              "<div>\n",
              "<style scoped>\n",
              "    .dataframe tbody tr th:only-of-type {\n",
              "        vertical-align: middle;\n",
              "    }\n",
              "\n",
              "    .dataframe tbody tr th {\n",
              "        vertical-align: top;\n",
              "    }\n",
              "\n",
              "    .dataframe thead th {\n",
              "        text-align: right;\n",
              "    }\n",
              "</style>\n",
              "<table border=\"1\" class=\"dataframe\">\n",
              "  <thead>\n",
              "    <tr style=\"text-align: right;\">\n",
              "      <th></th>\n",
              "      <th>headline_text</th>\n",
              "    </tr>\n",
              "  </thead>\n",
              "  <tbody>\n",
              "    <tr>\n",
              "      <th>0</th>\n",
              "      <td>aba decides against community broadcasting lic...</td>\n",
              "    </tr>\n",
              "    <tr>\n",
              "      <th>1</th>\n",
              "      <td>act fire witnesses must be aware of defamation</td>\n",
              "    </tr>\n",
              "    <tr>\n",
              "      <th>2</th>\n",
              "      <td>a g calls for infrastructure protection summit</td>\n",
              "    </tr>\n",
              "    <tr>\n",
              "      <th>3</th>\n",
              "      <td>air nz staff in aust strike for pay rise</td>\n",
              "    </tr>\n",
              "    <tr>\n",
              "      <th>4</th>\n",
              "      <td>air nz strike to affect australian travellers</td>\n",
              "    </tr>\n",
              "  </tbody>\n",
              "</table>\n",
              "</div>"
            ],
            "text/plain": [
              "                                       headline_text\n",
              "0  aba decides against community broadcasting lic...\n",
              "1     act fire witnesses must be aware of defamation\n",
              "2     a g calls for infrastructure protection summit\n",
              "3           air nz staff in aust strike for pay rise\n",
              "4      air nz strike to affect australian travellers"
            ]
          },
          "metadata": {},
          "execution_count": 67
        }
      ]
    },
    {
      "cell_type": "markdown",
      "metadata": {
        "id": "9Ef3HHJlPKHJ"
      },
      "source": [
        "###Apply the preprocessing function to all the rows in our dataset, filtering every headlines"
      ]
    },
    {
      "cell_type": "code",
      "metadata": {
        "colab": {
          "base_uri": "https://localhost:8080/"
        },
        "id": "Px0keUqVIhIb",
        "outputId": "878c3128-fd6f-4186-c3ae-ded8bef22e28"
      },
      "source": [
        "text['headline_text'] = text['headline_text'].map(lambda x: preprocessing(x))\n",
        "text_filtered = text['headline_text']\n",
        "text_filtered.head()"
      ],
      "execution_count": null,
      "outputs": [
        {
          "output_type": "execute_result",
          "data": {
            "text/plain": [
              "0    aba decides community broadcasting licence\n",
              "1      act fire witnesses must aware defamation\n",
              "2      g calls infrastructure protection summit\n",
              "3             air nz staff aust strike pay rise\n",
              "4    air nz strike affect australian travellers\n",
              "Name: headline_text, dtype: object"
            ]
          },
          "metadata": {},
          "execution_count": 68
        }
      ]
    },
    {
      "cell_type": "markdown",
      "metadata": {
        "id": "NFFITt6FPXSx"
      },
      "source": [
        "###Next, we'll tokenize the text by using the split() method"
      ]
    },
    {
      "cell_type": "code",
      "metadata": {
        "colab": {
          "base_uri": "https://localhost:8080/"
        },
        "id": "Nd6FQEYQHuW6",
        "outputId": "3be99553-9e1b-45c0-dc52-f6b6a66ba007"
      },
      "source": [
        "textList =  [x.split() for x in text_filtered]\n",
        "print(textList)"
      ],
      "execution_count": null,
      "outputs": [
        {
          "output_type": "stream",
          "name": "stdout",
          "text": [
            "[['aba', 'decides', 'community', 'broadcasting', 'licence'], ['act', 'fire', 'witnesses', 'must', 'aware', 'defamation'], ['g', 'calls', 'infrastructure', 'protection', 'summit'], ['air', 'nz', 'staff', 'aust', 'strike', 'pay', 'rise'], ['air', 'nz', 'strike', 'affect', 'australian', 'travellers'], ['ambitious', 'olsson', 'wins', 'triple', 'jump'], ['antic', 'delighted', 'record', 'breaking', 'barca'], ['aussie', 'qualifier', 'stosur', 'wastes', 'four', 'memphis', 'match'], ['aust', 'addresses', 'un', 'security', 'council', 'iraq'], ['australia', 'locked', 'war', 'timetable', 'opp'], ['australia', 'contribute', '10', 'million', 'aid', 'iraq'], ['barca', 'take', 'record', 'robson', 'celebrates', 'birthday'], ['bathhouse', 'plans', 'move', 'ahead'], ['big', 'hopes', 'launceston', 'cycling', 'championship'], ['big', 'plan', 'boost', 'paroo', 'water', 'supplies'], ['blizzard', 'buries', 'united', 'states', 'bills'], ['brigadier', 'dismisses', 'reports', 'troops', 'harassed'], ['british', 'combat', 'troops', 'arriving', 'daily', 'kuwait'], ['bryant', 'leads', 'lakers', 'double', 'overtime', 'win'], ['bushfire', 'victims', 'urged', 'see', 'centrelink'], ['businesses', 'prepare', 'terrorist', 'attacks'], ['calleri', 'avenges', 'final', 'defeat', 'eliminate', 'massu'], ['call', 'ethanol', 'blend', 'fuel', 'go', 'ahead'], ['carews', 'freak', 'goal', 'leaves', 'roma', 'ruins'], ['cemeteries', 'miss', 'funds'], ['code', 'conduct', 'toughens', 'organ', 'donation', 'regulations'], ['commonwealth', 'bank', 'cuts', 'fixed', 'home', 'loan', 'rates'], ['community', 'urged', 'help', 'homeless', 'youth'], ['council', 'chief', 'executive', 'fails', 'secure', 'position'], ['councillor', 'contest', 'wollongong', 'independent'], ['council', 'moves', 'protect', 'tas', 'heritage', 'garden'], ['council', 'welcomes', 'ambulance', 'levy', 'decision'], ['council', 'welcomes', 'insurance', 'breakthrough'], ['crean', 'tells', 'alp', 'leadership', 'critics', 'shut'], ['dargo', 'fire', 'threat', 'expected', 'rise'], ['death', 'toll', 'continues', 'climb', 'south', 'korean', 'subway'], ['dems', 'hold', 'plebiscite', 'iraqi', 'conflict'], ['dent', 'downs', 'philippoussis', 'tie', 'break', 'thriller'], ['de', 'villiers', 'learn', 'fate', 'march', '5'], ['digital', 'tv', 'become', 'commonplace', 'summit'], ['direct', 'anger', 'govt', 'soldiers', 'crean', 'urges'], ['dispute', 'smithton', 'vegetable', 'processing', 'plant'], ['dog', 'mauls', '18', 'month', 'old', 'toddler', 'nsw'], ['dying', 'korean', 'subway', 'passengers', 'phoned', 'help'], ['england', 'change', 'three', 'wales', 'match'], ['epa', 'still', 'trying', 'recover', 'chemical', 'clean', 'costs'], ['expressions', 'interest', 'sought', 'build', 'livestock'], ['fed', 'opp', 'introduce', 'national', 'insurance'], ['firefighters', 'contain', 'acid', 'spill'], ['four', 'injured', 'head', 'highway', 'crash'], ['freedom', 'records', 'net', 'profit', 'third', 'successive'], ['funds', 'allocated', 'domestic', 'violence', 'victims'], ['funds', 'allocated', 'youth', 'risk'], ['funds', 'announced', 'bridge', 'work'], ['funds', 'go', 'cadell', 'upgrade'], ['funds', 'help', 'restore', 'cossack'], ['german', 'court', 'give', 'verdict', 'sept', '11', 'accused'], ['gilchrist', 'backs', 'rest', 'policy'], ['girl', 'injured', 'head', 'highway', 'crash'], ['gold', 'coast', 'hear', 'bilby', 'project'], ['golf', 'club', 'feeling', 'smoking', 'ban', 'impact'], ['govt', 'blame', 'ethanols', 'unpopularity', 'opp'], ['greens', 'offer', 'police', 'station', 'alternative'], ['griffiths', 'fire', 'project', 'knock', 'back'], ['group', 'meet', 'north', 'west', 'wa', 'rock', 'art'], ['hacker', 'gains', 'access', 'eight', 'million', 'credit', 'cards'], ['hanson', 'grossly', 'naive', 'nsw', 'issues', 'costa'], ['hanson', 'go', 'back', 'came', 'nsw', 'mp'], ['harrington', 'raring', 'go', 'break'], ['health', 'minister', 'backs', 'organ', 'tissue', 'storage'], ['heavy', 'metal', 'deposits', 'survey', 'nearing', 'end'], ['injured', 'rios', 'pulls', 'buenos', 'aires', 'open'], ['inquest', 'finds', 'mans', 'death', 'accidental'], ['investigations', 'underway', 'death', 'toll', 'korean'], ['investigation', 'underway', 'elster', 'creek', 'spill'], ['iraqs', 'neighbours', 'plead', 'continued', 'un', 'inspections'], ['iraq', 'pay', 'rebuilding', 'white', 'house'], ['irish', 'man', 'arrested', 'omagh', 'bombing'], ['irrigators', 'vote', 'river', 'management'], ['israeli', 'forces', 'push', 'gaza', 'strip'], ['jury', 'consider', 'verdict', 'murder', 'case'], ['juvenile', 'sex', 'offenders', 'unlikely', 'reoffend'], ['kelly', 'disgusted', 'alleged', 'bp', 'ethanol', 'scare'], ['kelly', 'surprised', 'ethanol', 'confidence', 'low'], ['korean', 'subway', 'fire', '314', 'still', 'missing'], ['last', 'minute', 'call', 'hands', 'alinghi', 'big', 'lead'], ['low', 'demand', 'forces', 'air', 'service', 'cuts'], ['man', 'arrested', 'central', 'qld', 'hijack', 'attempt'], ['man', 'charged', 'cooma', 'murder'], ['man', 'fined', 'aboriginal', 'tent', 'embassy', 'raid'], ['man', 'jailed', 'keno', 'fraud'], ['man', 'knife', 'hijacks', 'light', 'plane'], ['martin', 'lobby', 'losing', 'nt', 'seat', 'fed'], ['massive', 'drug', 'crop', 'discovered', 'western', 'nsw'], ['mayor', 'warns', 'landfill', 'protesters'], ['meeting', 'consider', 'tick', 'clearance', 'costs'], ['meeting', 'focus', 'broken', 'hill', 'water', 'woes'], ['moderate', 'lift', 'wages', 'growth'], ['40', 'pc', 'young', 'men', 'drink', 'alcohol'], ['water', 'restrictions', 'predicted', 'northern', 'tas'], ['women', 'urged', 'become', 'councillors'], ['highly', 'educated', 'live', 'nsw', 'wa'], ['mp', 'raises', 'hospital', 'concerns', 'parliament'], ['mp', 'rejects', 'ambulance', 'levy', 'claims'], ['mugabe', 'touch', 'paris', 'summit'], ['national', 'gallery', 'gets', 'clear'], ['nato', 'gives', 'green', 'light', 'defend', 'turkey'], ['nca', 'defends', 'aboriginal', 'tent', 'embassy', 'raid'], ['new', 'zealand', 'imposes', 'visa', 'entry', 'zimbabwe'], ['side', 'effects', 'new', 'whooping', 'cough', 'vaccine'], ['nsw', 'govt', 'fire', 'holding', 'back', 'vegetation'], ['nsw', 'opp', 'defends', 'claims', 'running', 'race', 'campaign'], ['nsw', 'opp', 'pledges', '50m', 'drought', 'relief'], ['nt', 'govt', 'boosts', 'nurse', 'number', 'overseas', 'intake'], ['nth', 'koreans', 'seek', 'asylum', 'japanese', 'embassy'], ['nursing', 'student', 'intake'], ['oh', 'brother', 'times', 'says', 'ganguly', 'senior'], ['omodei', 'stay', 'politics'], ['onesteel', 'invest', '80m', 'whyalla', 'steelworks'], ['opposition', 'urged', 'help', 'protect', 'recherche', 'bay'], ['orientation', 'begins', 'uni', 'students'], ['osullivan', 'world', 'cross', 'country', 'doubt'], ['pagan', 'says', 'rule', 'changes', 'necessary'], ['pair', 'face', 'court', 'ayr', 'murder'], ['patterson', 'defends', 'decision', 'attend', 'health'], ['patterson', 'show', 'displays', 'govts', 'arrogance', 'crean'], ['patterson', 'snubs', 'health', 'meeting', 'avoid', 'lions', 'den'], ['peace', 'agreement', 'may', 'bring', 'respite', 'venezuela'], ['pienaar', 'shines', 'ajax', 'frustrate', 'arsenal'], ['plan', 'second', 'skatepark'], ['plan', 'encourage', 'farmers', 'plantation', 'timber'], ['png', 'nurses', 'strike', 'colleague', 'raped', 'way'], ['police', 'cracking', 'driver', 'safety'], ['police', 'defend', 'aboriginal', 'tent', 'embassy', 'raid'], ['policewomen', 'accusations', 'feature', 'federal', 'crime'], ['probe', 'launched', 'plane', 'crash'], ['program', 'monitor', 'forest', 'harvested', 'areas'], ['public', 'urged', 'check', 'gas', 'cylinders'], ['public', 'warned', 'phone', 'scam'], ['qantas', 'international', 'crews', 'strike', 'pay'], ['qantas', 'war', 'plan', 'cut', '2500', 'jobs', 'outrages', 'unions'], ['qr', 'planning', 'northern', 'route', 'sackings'], ['questions', 'public', 'anger', 'grows', 'korean', 'subway'], ['rabbit', 'control', 'program', 'trial'], ['radioactive', 'spill', 'wmcs', 'olympic', 'dam', 'mine'], ['rain', 'eases', 'wheatbelt', 'water', 'woes'], ['reading', 'go', 'third', 'first', 'division'], ['record', 'amount', 'gladstone', 'ventures'], ['refshauge', 'wins', 'defamation', 'court', 'case'], ['regulator', 'inspect', 'gm', 'canola', 'trials'], ['report', 'highlights', 'container', 'terminal', 'potential'], ['resource', 'stocks', 'boost', 'ords'], ['restraint', 'order', 'issued', 'anti', 'discrimination'], ['rfs', 'rejects', 'claim', 'act', 'authorities', 'spurned'], ['ricciuto', 'undergoes', 'surgery', 'injured', 'ankle'], ['rice', 'mill', 'closures', 'put', '300', 'work'], ['rsl', 'angry', 'reports', 'troop', 'harassment'], ['safety', 'review', 'begins', 'bushwalker', 'death'], ['sa', 'premier', 'calls', 'action', 'river', 'murray'], ['saudi', 'arabians', 'stand', 'trial', 'al', 'qaeda'], ['saudi', 'arabia', 'tells', 'arabs', 'war', 'iraq', 'inevitable'], ['search', 'continues', 'victims', 'south', 'korean', 'subway'], ['second', 'resolution', 'iraq', 'expected', 'shortly', 'un'], ['shire', 'offers', 'assurances', 'finances'], ['six', 'palestinians', 'killed', 'gaza', 'incursion'], ['slow', 'recovery', 'predicted', 'aust', 'economy'], ['smoking', 'bans', 'hit', 'tabcorp', 'bottom', 'line'], ['snowtown', 'murder', 'trial', 'delayed'], ['states', 'may', 'forced', 'label', 'ethanol', 'fuel'], ['stations', 'get', 'fixed', 'home', 'phone', 'service'], ['sterrey', 'steer', 'sharks'], ['still', 'sign', 'missing', 'fisherman'], ['stop', 'changing', 'rules', 'fans', 'tell', 'afl'], ['sugar', 'industry', 'plan', 'revealed'], ['surge', 'new', 'car', 'sales', 'aust', 'abs'], ['swiss', 'challengers', 'looking', 'future'], ['taipans', 'placing', 'future', 'publics', 'hands'], ['talk', 'asian', 'nuclear', 'arms', 'race', 'unhelpful', 'downer'], ['tasmanian', 'scientists', 'search', 'east', 'coast'], ['taylor', 'denies', 'calling', 'waugh', 'quit'], ['teen', 'face', 'court', 'drug', 'charges'], ['testing', 'shows', 'dioxin', 'drinking', 'water', 'standards'], ['thousands', 'remember', '61st', 'anniversary', 'darwin'], ['unions', 'ask', 'members', 'support', 'public', 'protests'], ['uni', 'continue', 'tree', 'disease', 'study'], ['us', 'british', 'aircraft', 'attack', 'sth', 'iraq', 'target'], ['vff', 'buy', 'stock', 'feed', 'pellets', 'fire', 'affected'], ['vic', 'local', 'councils', 'welcome', 'single', 'polling', 'day'], ['victorian', 'scientists', 'honoured', 'awards'], ['vowles', 'retire', 'end', 'season'], ['wales', 'coach', 'accuses', 'players', 'belittling', 'red'], ['warne', 'hearing', 'set', 'friday'], ['webb', 'favourite', 'ladies', 'masters'], ['widnes', 'abandon', 'paul', 'bid'], ['wildlife', 'sanctuaries', 'plan', 'revealed'], ['williams', 'says', 'tight', 'bowling', 'key', 'warriors', 'win'], ['wine', 'chief', 'bounces', 'back', 'sacking'], ['worksafe', 'probes', 'potato', 'harvester', 'injuries'], ['15', 'dead', 'rebel', 'bombing', 'raid', 'philippines', 'army'], ['abattoir', 'sale'], ['academic', 'upbeat', 'higher', 'education', 'review'], ['administrator', 'appointed', 'land', 'council'], ['aec', 'declare', 'nt', 'lose', 'parliamentary', 'seat'], ['amcor', 'records', 'solid', 'profit', 'result'], ['americas', 'cup', 'fourth', 'race', 'cancelled'], ['arsenal', 'poised', 'swoop', 'beckham', 'report'], ['aust', 'drinking', 'less', 'alcohol', 'smoking', 'less', 'study'], ['austeel', 'eis', 'release', 'due', 'soon', 'nsw', 'govt'], ['australian', 'flag', 'celebrates', '100th', 'birthday'], ['awu', 'hold', 'meeting', 'port', 'kembla', 'jobs'], ['baby', 'badly', 'burnt', 'brisbane', 'house', 'fire'], ['bad', 'weather', 'might', 'caused', 'iranian', 'plane', 'crash'], ['beckham', 'leads', 'man', 'u', 'cut', 'depleted', 'juve'], ['beware', 'standard', 'alcoholic', 'drink'], ['bilby', 'dream', 'become', 'reality'], ['brisbane', 'sparkies', 'head', '10', 'day', 'strike'], ['britain', 'tells', 'nationals', 'leave', 'iraq', 'kuwait'], ['british', 'high', 'court', 'overturns', 'new', 'blair', 'asylum'], ['british', 'magician', 'entomb', 'cheese'], ['bungle', 'leaves', 'doctor', 'waiting', 'practise'], ['bushfire', 'coronial', 'inquiry', 'winds'], ['bush', 'thanks', 'nato', 'support', 'turkey'], ['call', 'ambos', 'help', 'wake', 'funding', 'changes'], ['canegrowers', 'hope', 'late', 'summer', 'rain'], ['capriati', 'hungry', 'dubai'], ['celts', 'underdogs', 'uefa', 'clash', 'oneill'], ['chambers', 'vows', 'smash', 'world', 'mark'], ['charvis', 'pays', 'penalty', 'humphreys', 'earns', 'shock'], ['christmas', 'detention', 'centre', 'go', 'claims', 'quashed'], ['claim', 'defence', 'spending', 'priority', 'health', 'nt'], ['claim', 'education', 'policy', 'causing', 'high', 'indigenous'], ['claim', 'new', 'code', 'protect', 'autopsy', 'consent'], ['claim', 'tas', 'education', 'policy', 'causing', 'high', 'indigenous'], ['college', 'continue', 'work', 'experience'], ['concern', 'act', 'fire', 'probe', 'covered', 'legal'], ['concorde', 'makes', 'emergency', 'landing', 'canada'], ['coronial', 'inquiry', 'expected', 'hospital', 'death'], ['council', 'chief', 'laments', 'job', 'advertising', 'decision'], ['council', 'general', 'manager', 'step'], ['council', 'offer', 'vandalism', 'reporting', 'reward'], ['country', 'racing', 'clubs', 'still', 'hold', 'tab', 'fears'], ['court', 'rule', 'longford', 'gas', 'compo', 'today'], ['cristal', 'end', 'eight', 'match', 'libertadores', 'losing', 'streak'], ['cuper', 'slams', 'inter', 'bad', 'boy', 'recoba'], ['deportivo', 'slip', 'buoyant', 'swiss', 'minnows', 'basel'], ['distance', 'swimmer', 'maroney', 'calls', 'quits'], ['dixon', 'dismisses', 'qantas', 'monopoly', 'claim'], ['downer', 'warns', 'iraq', 'action', 'could', 'begin', 'soon'], ['drought', 'breaking', 'rain', 'may', 'months', 'away'], ['drought', 'impact', 'may', 'far', 'reaching'], ['drought', 'taking', 'toll', 'insects'], ['early', 'childhood', 'development', 'receive', 'research'], ['ellis', 'webb', 'well', 'placed', 'ladies', 'masters'], ['employee', 'granted', 'restraining', 'order'], ['england', 'almost', 'choke', 'burger', 'king'], ['england', 'call', 'morris', 'first', 'cap'], ['epa', 'investigate', 'radioactive', 'spill', 'sa'], ['esso', 'responsible', 'economic', 'losses', 'gas'], ['esso', 'wins', 'class', 'action', 'longford', 'gas'], ['etienne', 'agrees', 'tyson', 'fight'], ['families', 'confront', 'korean', 'president', 'elect'], ['fans', 'join', 'flower', 'olonga', 'anti', 'mugabe', 'protest'], ['ferguson', 'hails', 'beckham', 'uniteds', 'victory'], ['fewer', 'australians', 'jailed', 'abs'], ['fifa', 'boss', 'prepared', 'postpone', 'matches', 'war'], ['firefighters', 'told', 'attend', 'tip', 'blazes'], ['fish', 'cleaning', 'facility', 'plans', 'announced'], ['flight', 'attendant', 'action', 'wont', 'affect', 'bundaberg'], ['forest', 'alliance', 'rejects', 'hindrance', 'claims'], ['former', 'bank', 'worker', 'pleads', 'guilty', 'theft', 'charges'], ['former', 'treasurer', 'charged', 'starting', 'fire', 'sa'], ['forum', 'puts', 'focus', 'regional', 'needs'], ['four', 'nominate', 'nats', 'charters', 'towers', 'preselection'], ['france', 'drop', 'merceron', 'gelez', 'face', 'scots'], ['french', 'expedition', 'site', 'heritage', 'protected'], ['fuel', 'price', 'jumps', 'newcastle'], ['fulham', 'smash', 'west', 'brom', 'quickfire', 'trio'], ['ganguly', 'leads', 'india', 'victory'], ['gartner', 'wines', 'wound'], ['gippsland', 'firefighters', 'remain', 'guard'], ['govt', 'canvassing', 'ways', 'improve', 'child', 'development'], ['govt', 'work', 'rhh', 'coroners', 'suicide', 'report'], ['greenpeace', 'calls', 'ban', 'gm', 'canola'], ['greens', 'dump', 'anti', 'terror', 'kits', 'howards', 'doorstep'], ['group', 'airs', 'truancy', 'concerns'], ['groups', 'praise', 'outgoing', 'opposition', 'agriculture'], ['group', 'take', 'reef', 'hq', 'building'], ['hagan', 'blood', 'rookies', 'penrith'], ['houllier', 'backs', 'owen', 'break', 'rush', 'scoring', 'record'], ['howard', 'steps', 'criticism', 'anti', 'war', 'protesters'], ['howard', 'vows', 'stay', 'pm', 'iraq', 'crisis'], ['hussein', 'says', 'iraq', 'doesnt', 'want', 'war', 'us'], ['illegal', 'fishing', 'hot', 'spots', 'identified'], ['immigration', 'raid', 'melbourne', 'draws', 'flak'], ['impatience', 'grows', 'water', 'management', 'plan'], ['indy', 'meeting', 'likely', 'include', 'rain', 'racing', 'talks'], ['injuries', 'threaten', 'united', 'finals', 'bid'], ['interest', 'sought', 'building', 'stage', 'one', 'bypass'], ['investigations', 'underway', 'qantas', 'skid'], ['investor', 'planned', 'ethanol', 'plant', 'laments', 'trial'], ['iran', 'military', 'plane', 'crash', 'kills', '302'], ['iran', 'plane', 'crashes', 'least', '250', 'aboard', 'tv'], ['iraqi', 'use', 'human', 'shields', 'war', 'crime', 'us'], ['italy', 'remain', 'unchanged', 'ireland', 'clash'], ['kalgoorlie', 'boulder', 'crime', 'rate', 'declines'], ['kayakers', 'rescued', 'second', 'day', 'adventure'], ['kirwan', 'sticks', 'winning', 'formula', 'ireland'], ['korean', 'books', 'atp', 'date', 'top', 'seed', 'roddick'], ['landholder', 'contribution', 'still', 'discussion'], ['lawyers', 'allowed', 'visit', 'manus', 'detention', 'centre'], ['lawyers', 'set', 'appeal', 'mans', 'sept', '11', 'conviction'], ['lawyers', 'review', 'case', 'esso', 'appeal'], ['lend', 'leases', 'posts', '370', 'million', 'loss'], ['lethal', 'backs', 'nine', 'point', 'rule', 'change'], ['m5', 'airport', 'tunnel', 'remains', 'closed', 'accident'], ['macarthurs', 'kingfisher', 'suffers', 'minor', 'damage'], ['man', 'apologises', 'plane', 'hijack'], ['man', 'awaits', 'sentencing', 'denmark', 'murder'], ['man', 'questioned', 'qld', 'backpacker', 'death'], ['man', 'charged', 'roxby', 'downs', 'plane', 'incident'], ['man', 'hospital', 'stabbing', 'attack'], ['man', 'loses', 'defamation', 'compo', 'bid'], ['man', 'murder', 'charge', 'refused', 'bail'], ['man', 'face', 'court', 'alleged', 'hijack'], ['man', 'face', 'court', 'attempted', 'armed', 'robbery'], ['man', 'whacked', 'thatcher', 'gets', '3', 'months', 'jail'], ['maroney', 'calls', 'quits'], ['medal', 'recognises', 'islander', 'war', 'efforts'], ['meetings', 'consider', 'glenelg', 'river', 'future'], ['melbourne', 'man', 'receives', 'massive', 'compo', 'payout'], ['mgladbach', 'leave', 'danger', 'zone', 'home', 'win'], ['mine', 'rating', 'challenge', 'result', 'expected', 'march'], ['miner', 'exploring', 'nickel', 'deposits'], ['molotov', 'cocktail', 'suspected', 'melb', 'hotel', 'fire'], ['anti', 'war', 'rallies', 'planned'], ['land', 'noosa', 'national', 'park'], ['teachers', 'danger', 'students', 'union'], ['60', 'detained', 'immigration', 'raid'], ['women', 'unlikely', 'join', 'mens', 'pga', 'masters'], ['mosley', 'ready', 'engine', 'compromise'], ['motorists', 'avoid', 'ethanol', 'blended', 'fuels', 'labor'], ['mud', 'crab', 'business', 'move'], ['murray', 'meeting', 'wouldnt', 'detract', 'ministerial'], ['nats', 'seek', 'probe', 'bushfires', 'probe'], ['new', 'boat', 'takes', 'waterways'], ['new', 'zealand', 'discover', 'kenya', 'fate', 'thursday'], ['funding', 'discussion', 'nsw', 'poll'], ['penalties', 'church', 'damaged', 'monument'], ['nsw', 'coalition', 'making', 'magic', 'pudding', 'election'], ['nt', 'govt', 'announces', 'community', 'benefit', 'grants'], ['offers', 'roll', 'classic', 'holden'], ['oil', 'prices', 'hit', 'new', 'high'], ['oldfield', 'front', 'court', 'one', 'nation', 'pre'], ['one', 'nation', 'pre', 'selection', 'hearing', 'continues', 'nsw'], ['packer', 'hands', 'licence', 'pistol', 'investigation'], ['pakistani', 'air', 'force', 'chief', 'killed', 'air', 'crash'], ['palaszczuk', 'wont', 'make', 'disaster', 'funds', 'promise'], ['parks', 'move', 'protect', 'high', 'conservation', 'areas'], ['peace', 'group', 'denies', 'members', 'harassing', 'soldiers'], ['people', 'trapped', 'm5', 'pile'], ['pilot', 'makes', 'emergency', 'landing', 'adelaide', 'airport'], ['players', 'continue', 'zimbabwe', 'protest'], ['pm', 'criticism', 'protesters', 'disgraceful', 'crean'], ['pm', 'defends', 'criticism', 'anti', 'war', 'protesters'], ['police', 'continue', 'probe', 'human', 'remains', 'find'], ['police', 'find', 'second', 'cannabis', 'crop'], ['police', 'hope', 'gain', 'edge', 'weapons', 'users'], ['police', 'locate', 'missing', 'family', '6', 'house'], ['police', 'make', 'arrests', 'drug', 'raids'], ['police', 'seek', 'help', 'pay', 'tv', 'piracy'], ['police', 'tax', 'office', 'fight', 'chop', 'chop', 'trade'], ['police', 'wont', 'rule', 'link', 'drug', 'plantations'], ['politicians', 'breeding', 'publics', 'anti', 'troop', 'sentiment'], ['pollock', 'denies', 'split', 'proteas', 'camp'], ['population', 'drift', 'forces', 'new', 'federal', 'boundaries'], ['powell', 'visit', 'asia', 'bid', 'ease', 'nth', 'korean'], ['predictions', 'good', 'wheatbelt', 'rain'], ['probe', 'launched', 'fatal', 'police', 'pursuit'], ['protesters', 'condemn', 'howard', 'criticism', 'anti', 'war'], ['protocols', 'followed', 'immigration', 'raids'], ['public', 'warned', 'snake', 'handling', 'dangers'], ['pumping', 'continues', 'richmond', 'flooding'], ['qantas', 'draws', 'flak', 'redundancy', 'talk'], ['qantas', 'flags', 'job', 'cuts', 'despite', 'record', 'profit'], ['qantas', 'records', '353', 'million', 'profit'], ['qfvg', 'upset', 'retail', 'prices'], ['qld', 'govt', 'says', 'new', 'hospital', 'schedule'], ['qld', 'nats', 'close', 'deal', 'libs', 'springborg'], ['racing', 'club', 'sneak', 'point', 'peru'], ['rain', 'boosts', 'farmers', 'confidence'], ['rain', 'may', 'force', 'aussie', 'bowling', 'change', 'buchanan'], ['ram', 'raid', 'targets', 'newsagency'], ['road', 'funds', 'tackle', 'flooding'], ['ronaldo', 'puts', 'real', 'back', 'race'], ['ruiz', 'hat', 'trick', 'guatemala', 'rout', 'nicaragua'], ['saff', 'gauge', 'feelings', 'planned', 'crown', 'lands', 'bill'], ['safin', 'escude', 'rotterdam', 'comeback', 'trail'], ['sa', 'govt', 'defends', 'moves', 'force', 'fine', 'defaulters'], ['sa', 'govt', 'appeal', 'fishing', 'decision'], ['schmeichel', 'set', 'miss', 'arsenal', 'trip'], ['school', 'reopen', 'paint', 'fume', 'scare'], ['scotland', 'refuse', 'panic'], ['seaman', 'injury', 'crisis', 'arsenal'], ['self', 'cloning', 'crayfish', 'threatens', 'native', 'species'], ['socceroos', 'creep', 'world', 'rankings'], ['solar', 'cars', 'turn', 'heads'], ['sporting', 'task', 'force', 'planning', 'begins'], ['start', 'americas', 'cup', 'race', 'four', 'delayed'], ['stone', 'stay', 'federal', 'liberal', 'president'], ['sun', 'needed', 'good', 'downpour'], ['taipans', 'win', 'keeps', 'play', 'dreams', 'alive'], ['tas', 'police', 'question', 'injured', 'man', 'house', 'fire'], ['taxi', 'driver', 'face', 'sex', 'trial'], ['tension', 'increases', 'fighter', 'strays', 'sth'], ['terror', 'weapons', 'pose', 'minimal', 'risk', 'british', 'expert'], ['thousands', 'visit', 'dairy', 'field', 'days'], ['three', 'israelis', 'injured', 'hamas', 'made', 'rockets', 'hit'], ['tnz', 'shuffles', 'pack', 'defeat', 'looms'], ['tomasson', 'gives', 'milan', 'narrow', 'win', 'lokomotiv'], ['tough', 'times', 'ahead', 'water', 'allocations'], ['tourism', 'industry', 'must', 'protected', 'iraq'], ['trial', 'hears', 'woman', 'denied', 'killing', 'fiance'], ['triathletes', 'back', 'bris', 'gold', 'coast', 'bikeway'], ['truck', 'roll', 'destroys', 'furniture'], ['turkey', 'stands', 'firm', 'us', 'aid', 'offer'], ['turkey', 'still', 'undecided', 'us', 'aid', 'gulf', 'attack'], ['union', 'disunity', 'mccains', 'enterprise', 'agreement'], ['un', 'security', 'council', 'ends', 'two', 'day', 'open', 'debate'], ['us', 'invited', 'talks', 'burmese', 'military', 'junta'], ['us', 'launches', 'homeland', 'security', 'ready', 'campaign'], ['us', 'markets', 'remain', 'jittery', 'shadow', 'war'], ['us', 'tells', 'turkey', 'time', 'running', 'aid', 'offer'], ['us', 'take', 'wto', 'action', 'europe', 'ge'], ['uzbek', 'journalist', 'sentenced', 'seven', 'years', 'jail'], ['verstappen', 'pleased', 'new', 'minardis', 'track', 'debut'], ['vic', 'govt', 'speaks', 'rice', 'mill', 'closure', 'claims'], ['wa', 'fire', 'crews', 'battle', 'bushfire', 'marangaroo'], ['war', 'talk', 'takes', 'toll', 'ords'], ['war', 'iraq', 'could', 'cost', '120', 'billion', 'economists'], ['watkins', 'jeered', 'education', 'forum'], ['wa', 'wine', 'destined', 'us'], ['western', 'power', 'reveals', 'power', 'supply', 'bid', 'details'], ['wide', 'bay', 'economy', 'growing', 'stronger'], ['wine', 'exporters', 'urged', 'push', 'ahead'], ['winemakers', 'move', 'considered', 'loss', 'tas', 'industry'], ['woman', 'faces', 'court', 'child', 'prostitution'], ['yacht', 'loses', 'mast', 'trawler', 'incident'], ['zimbabwe', 'bars', 'british', 'reporter', 'world', 'cup'], ['accc', 'timid', 'petrol', 'price', 'investigations'], ['action', 'wanted', 'lower', 'indigenous', 'unemployment', 'rate'], ['aec', 'ruling', 'scrap', 'federal', 'seat', 'hurts', 'us'], ['aek', 'shut', 'malaga', 'claim', 'goalless', 'draw'], ['allan', 'guilty', 'cash', 'charges'], ['allan', 'unlikely', 'appeal', 'fine'], ['ama', 'airs', 'hospital', 'reform', 'concerns'], ['ama', 'delivers', 'health', 'concerns', 'list', 'politicians'], ['andersson', 'atwal', 'miss', 'record', 'malaysia'], ['antarctic', 'rocks', 'could', 'aid', 'global', 'warming'], ['anz', 'confident', 'growth', 'tough', 'environment'], ['anz', 'pay', '260', 'million', 'tax', 'office'], ['arab', 'states', 'press', 'war', 'crimes', 'condemnation'], ['least', '26', 'dead', 'us', 'club', 'fire'], ['least', '42', 'injured', 'rhode', 'island', 'nightclub', 'fire'], ['aussie', 'dollar', 'continues', 'climb'], ['aust', 'could', 'top', 'four', 'al', 'qaeda', 'target', 'list'], ['australia', 'withdraw', 'bougainville', 'peace', 'monitors'], ['aust', 'share', 'market', 'ends', 'week', 'negative', 'territory'], ['bartlett', 'vows', 'block', 'govt', 'plans', 'sa', 'nuclear'], ['beattie', 'unaware', 'tree', 'clearing', 'funds', 'hold'], ['bedi', 'labels', 'murali', 'chucker'], ['belgian', 'police', 'recover', 'stolen', 'works'], ['bhp', 'port', 'kembla', 'production', 'restarts'], ['big', 'guns', 'back', 'business', 'premier', 'league'], ['blake', 'paradorn', 'upset', 'memphis'], ['bracks', 'backs', 'ruling', 'deans', '50000', 'year', 'pension'], ['british', 'govt', 'clashes', 'high', 'court', 'asylum'], ['british', 'pop', 'awards', 'platform', 'iraq'], ['briton', 'stabbed', 'death', 'bangkok'], ['brothel', 'owner', 'acquitted', 'hiring', 'underage'], ['brothel', 'owner', 'fronts', 'court', 'allegedly', 'hiring'], ['burmas', 'suu', 'kyi', 'sentenced', 'one', 'day', 'jail', 'fined'], ['bushfires', 'burn', '1m', 'hectares'], ['cairns', 'canberra', 'grab', 'nbl', 'wins'], ['cairns', 'injured', 'kiwi', 'nightclub', 'brawl'], ['cairns', 'injured', 'nightclub', 'brawl', 'report'], ['call', 'scrap', 'national', 'plantation', 'target'], ['candleholders', 'recalled', 'fire', 'risk'], ['carr', 'hook', 'brogden', 'debate', 'pm'], ['celts', 'sink', '10', 'man', 'stuttgart'], ['central', 'qld', 'park', 'area', 'expanded'], ['centrelink', 'offer', 'drought', 'counselling'], ['china', 'wage', 'chemical', 'war', 'chewing', 'gum', 'blobs'], ['chirac', 'mugabe', 'talk', 'sidelines', 'africa', 'summit'], ['christmas', 'island', 'residents', 'aware', 'detention'], ['claim', 'low', 'oil', 'inventory', 'causing', 'high', 'petrol', 'prices'], ['claims', 'live', 'sheep', 'cattle', 'exports', 'threatening', 'tas'], ['claims', 'rain', 'boost', 'stock', 'prices'], ['class', 'action', 'may', 'cost', 'esso', '50m'], ['clinton', 'cancels', 'trip', 'india'], ['coalition', 'promises', 'scrap', 'anglers', 'fee'], ['committal', 'continues', 'goulburn', 'jail', 'riot'], ['costello', 'unhappy', 'wasnt', 'consulted', 'stone'], ['council', 'approves', 'poultry', 'farm'], ['council', 'awaits', 'rain'], ['council', 'considers', 'indigenous', 'caravan', 'park', 'plan'], ['council', 'elections', 'planned', 'may'], ['council', 'rejects', 'combined', 'field', 'days', 'stand', 'idea'], ['council', 'change', 'tree', 'protection', 'law'], ['council', 'fund', 'groundwater', 'study'], ['counsel', 'begin', 'summing', 'warnes', 'doping', 'hearing'], ['criminal', 'charges', 'pending', 'south', 'korea', 'subway', 'probe'], ['crocs', 'prove', 'good', 'bullets'], ['date', 'set', 'bushfires', 'coronial', 'inquiry'], ['dean', 'receive', 'lifetime', 'parliamentary', 'pension'], ['death', 'spells', 'end', 'record', 'marriage'], ['demons', 'thump', 'tigers'], ['deportivo', 'cali', 'outclass', 'sulky', 'river', 'plate'], ['deschamps', 'chases', 'old', 'flame', 'marseille'], ['disaster', 'funds', 'allow', 'shire', 'complete'], ['dortmund', 'ready', 'hound', 'bayern'], ['downpour', 'closes', 'tourist', 'roads'], ['drought', 'impacting', 'roadworks'], ['drought', 'predicted', 'long', 'lasting', 'impact'], ['education', 'dept', 'considers', 'rural', 'concerns'], ['family', 'court', 'rejects', 'bid', 'invalidate', 'transsexual'], ['farmers', 'celebrate', 'good', 'rain'], ['fears', 'patterson', 'hiding', 'bad', 'news', 'tas', 'health', 'minister'], ['federal', 'funds', 'sought', 'wave', 'studies'], ['fed', 'govt', 'considering', 'appeal', 'transsexual'], ['firefighters', 'win', 'battle', 'contain', 'beechford', 'blaze'], ['fishers', 'meet', 'minister', 'court', 'ruling'], ['fishing', 'group', 'seeks', 'action', 'pilchard', 'imports'], ['flight', 'attendants', 'action', 'likely', 'affect'], ['footy', 'great', 'gets', 'behind', 'indigenous', 'rights', 'campaign'], ['former', 'socceroos', 'coach', 'thomson', 'dies'], ['funeral', 'held', 'cricket', 'legend'], ['funk', 'leads', 'elkington', 'california'], ['gebrselassie', 'plans', 'world', 'record', 'comeback'], ['g', 'g', 'witness', 'church', 'bell', 'hand'], ['gold', 'coast', 'gets', 'us', 'tourism', 'assurances'], ['group', 'concerned', 'rain', 'brings', 'wrong', 'impression'], ['group', 'gets', 'clearer', 'understanding', 'farmers', 'gm'], ['guga', 'reaches', 'buenos', 'aires', 'quarters'], ['health', 'service', 'speaks', 'patient', 'death'], ['hoddle', 'st', 'murderer', 'granted', 'right', 'seek', 'judicial'], ['horse', 'ride', 'enact', 'mt', 'isa', 'mine', 'find'], ['howard', 'repeats', 'zimbabwe', 'boycott', 'call'], ['hundreds', 'triathletes', 'head', 'coffs'], ['hungarian', 'thief', 'makes', 'amends', 'posts'], ['hyypia', 'hero', 'liverpool', 'bounce', 'back'], ['iaea', 'visit', 'iran', 'assess', 'nuclear', 'program'], ['indian', 'jailed', 'smuggling', 'pakistani', 'suitcase'], ['indian', 'players', 'retrace', 'gandhi', 'journey'], ['indonesia', 'says', 'australia', 'travel', 'warnings'], ['industrial', 'action', 'impact', 'brisbane', 'schools'], ['investigation', 'underway', 'm5', 'pile'], ['investigator', 'probes', 'sa', 'hospital', 'staff', 'complaints'], ['jackson', 'hits', 'back', 'explosive', 'british', 'tv', 'interview'], ['japanese', 'tourist', 'drowns', 'gold', 'coast', 'surf'], ['joblink', 'issues', 'statement', 'sacking'], ['keegan', 'aiming', 'bring', 'arsenal', 'earth'], ['kenya', 'awarded', 'points', 'kiwi', 'call'], ['kylie', 'minogues', 'posterior', 'hit', 'brits'], ['land', 'council', 'dismissed', 'administrator', 'appointed'], ['langer', 'named', 'one', 'day', 'player', 'year'], ['liverpool', 'win', 'lazio', 'held', 'krakow'], ['llewellyn', 'impressed', 'patterson', 'show'], ['longreach', 'water', 'restrictions', 'remain'], ['loose', 'cannon', 'afridi', 'set', 'pakistan'], ['lovenkrands', 'dreaming', 'hampden', 'return'], ['low', 'water', 'sparks', 'boat', 'ban', 'lake', 'albert'], ['male', 'dna', 'found', 'body', 'murdered', 'schoolgirl'], ['man', 'accused', 'selling', 'bali', 'bomb', 'chemicals', 'goes'], ['man', 'appears', 'court', 'charged', 'stuttle', 'murder'], ['man', 'charged', 'stuttle', 'murder'], ['man', 'fails', 'overturn', 'conviction', '1600yo', 'bell'], ['man', 'hospital', 'receiving', 'severe', 'electric'], ['man', 'hospital', 'stabbing'], ['man', 'jailed', 'fatally', 'stabbing', 'ex', 'de', 'facto'], ['man', 'jailed', 'life', 'axe', 'murder'], ['man', 'questioned', 'stuttle', 'murder'], ['man', 'face', 'court', 'fatal', 'hit', 'run'], ['man', 'u', 'agreed', 'deal', 'eriksson', 'ferguson'], ['man', 'threatened', 'melbourne', 'water', 'supply', 'bailed'], ['map', 'highlights', 'potential', 'river', 'salinity', 'problems'], ['mayor', 'angry', 'mural', 'vandalism'], ['mining', 'giant', 'calls', 'funding', 'boost', 'native'], ['montgomery', 'enters', 'us', 'indoor', 'nationals'], ['rain', 'may', 'delay', 'tougher', 'water', 'restrictions'], ['us', 'troops', 'help', 'hunt', 'abu', 'sayyaf', 'rebels'], ['mp', 'wants', 'tank', 'battalion', 'rumours', 'investigated'], ['mp', 'welcomes', 'police', 'station', 'announcement'], ['nardell', 'mine', 'closes', 'receiver', 'appointed'], ['nauru', 'appeals', 'help', 'keep', 'nations', 'airline'], ['new', 'battle', 'britain', 'looming', 'uefa', 'cup'], ['newcastle', 'city', 'notch', 'wins', 'stallions', 'draw', 'south'], ['new', 'commercial', 'mud', 'crabbing', 'restrictions', 'planned'], ['new', 'disability', 'respite', 'service'], ['n', 'korea', 'ducks', 'nuclear', 'talk', 'nam', 'summit'], ['n', 'korea', 'warns', 'wont', 'beg', 'peace'], ['cost', 'blowouts', 'forecast', 'water', 'treatment', 'plan'], ['nsw', 'coroner', 'clears', 'docs', 'death', 'toddler'], ['nsw', 'graziers', 'record', 'heavy', 'rainfall'], ['nsw', 'opps', 'drug', 'free', 'prison', 'plan', 'new', 'amery'], ['nursing', 'home', 'worker', 'suspended'], ['olonga', 'sacked', 'club'], ['one', 'million', 'tickets', 'sold', 'rugby', 'world', 'cup'], ['otago', 'open', 'super', '12', 'win'], ['owners', 'hesitant', 'northerlys', 'overseas', 'jaunt'], ['pair', 'face', 'court', 'machete', 'attack'], ['palestinian', 'killed', 'gaza', 'strip', 'crossing', 'point'], ['patterson', 'irresponsible', 'show', 'edmond'], ['patterson', 'show', 'childish', 'wa', 'minister'], ['patterson', 'says', 'health', 'meeting', 'waste', 'time'], ['petrol', 'prices', 'rise'], ['petrol', 'hit', '120', 'war', 'breaks', 'ssa'], ['plan', 'may', 'include', 'puckapunyal', 'roo', 'cull'], ['planning', 'intersection', 'revamp', 'begins'], ['pm', 'accuses', 'european', 'countries', 'encouraging', 'saddam'], ['pm', 'defends', 'protest', 'comments'], ['pm', 'choice', 'stay', 'iraq'], ['pm', 'praises', 'costello', 'leadership', 'patience'], ['png', 'governor', 'general', 'urges', 'election', 'unity'], ['police', 'charge', 'man', 'stabbing'], ['police', 'continue', 'investigating', 'cannabis', 'crops'], ['police', 'stations', 'face', 'uncertainty'], ['powell', 'calls', 'un', 'uphold', 'responsibilities'], ['push', 'likely', 'seek', 'aged', 'care', 'workers'], ['push', 'extend', 'fraser', 'world', 'heritage', 'listing'], ['qantas', 'plane', 'makes', 'emergency', 'landing'], ['qantas', 'says', 'info', 'prime', 'terrorist'], ['qantas', 'urged', 'update', 'security', 'shadow'], ['qld', 'govt', 'rejects', 'land', 'acquisition', 'claims'], ['racv', 'surprised', 'petrol', 'rationing', 'talk'], ['rail', 'firm', 'assess', 'workers', 'needs'], ['rain', 'brings', 'stock', 'losses'], ['rain', 'causes', 'chaos', 'melbourne', 'roads'], ['rain', 'expected', 'continue', 'across', 'act'], ['rainfall', 'likely', 'clear', 'weekend'], ['rain', 'nsw', 'welcome', 'relief', 'drought'], ['rain', 'enough', 'drought', 'breaking'], ['rain', 'offers', 'water', 'supply', 'boost'], ['rejuvenated', 'tyson', 'cured', 'cash', 'injection'], ['residents', 'get', 'fire', 'assurances'], ['retail', 'sector', 'airs', 'trading', 'hours', 'review', 'concerns'], ['romario', 'jeered', 'teams', 'brawl', 'fluminense', 'held'], ['round', 'world', 'forget'], ['ruddock', 'commends', 'australias', 'traveller', 'controls'], ['salinity', 'experts', 'map', 'water', 'catchments'], ['sa', 'nt', 'lose', 'seats', 'federal', 'parliament'], ['sas', 'soldier', 'charged', 'misconduct', 'e'], ['schumacher', 'seeks', 'speed', 'less', 'noise'], ['seaman', 'set', 'ajax', 'match'], ['search', 'better', 'life', 'pays'], ['second', 'us', 'nightclub', 'fire', 'kills', '10'], ['senators', 'offer', 'input', 'coast', 'issues'], ['several', 'dead', 'fire', 'rhode', 'island', 'nightclub'], ['shire', 'says', 'planning', 'policy', 'compromised'], ['slapping', 'paedophile', 'arm', 'amputated'], ['state', 'territory', 'health', 'ministers', 'arrive', 'meeting'], ['stolen', 'wage', 'report', 'looks', 'improve', 'indigenous'], ['strike', 'expected', 'mean', 'milk', 'shortages'], ['strike', 'may', 'disrupt', 'nsw', 'milk', 'supply'], ['study', 'considers', 'alternative', 'crops', 'sugar', 'regions'], ['study', 'probe', 'snowy', 'motorcycle', 'crashes'], ['teachers', 'shortage', 'set', 'get', 'worse', 'report'], ['team', 'mates', 'send', 'best', 'wishes', 'warne'], ['telstra', 'chief', 'embarrassed', '1', 'billion', 'writedown'], ['telstra', 'punished', 'massive', 'hong', 'kong', 'write'], ['telstra', 'still', 'hurting', 'hk', 'joint', 'venture'], ['thieves', 'target', 'esperance', 'cars'], ['timor', 'sea', 'treaty', 'ratfied', 'shortly', 'martin'], ['troubled', 'torino', 'praying', 'miracle'], ['tuckey', 'laments', 'gungahlin', 'drive', 'planning', 'problems'], ['turkey', 'delays', 'vote', 'us', 'troops'], ['turkey', 'digs', 'heels', 'us', 'lobbies', 'support'], ['turkey', 'forces', 'us', 'weigh', 'strategies'], ['union', 'condemns', 'qantass', 'contract', 'labour', 'plan'], ['us', 'asks', 'indonesia', 'improve', 'human', 'rights', 'record'], ['us', 'boost', 'troop', 'numbers', 'philippines'], ['us', 'chiropractor', 'address', 'gold', 'coast', 'gathering'], ['us', 'intelligence', 'analyst', 'found', 'guilty', 'spying'], ['usq', 'researchers', 'prepare', 'move'], ['valencia', 'sense', 'victory', 'benitez', 'vs', 'benitez'], ['vic', 'govt', 'gets', 'farmers', 'drought', 'update'], ['victorian', 'farmers', 'hope', 'rain', 'break', 'drought'], ['victoria', 'welcomes', 'rain', 'relief'], ['vinnicombe', 'rejects', 'mps', 'freeway', 'claims'], ['waratahs', 'go', 'super', '12', 'opener'], ['war', 'impact', 'exercise', 'unknown'], ['warne', 'decision', 'made', 'saturday'], ['warne', 'dope', 'hearing', 'underway'], ['williams', 'mclaren', 'plan', 'take', 'fia', 'court'], ['wine', 'avocados', 'drive', 'mutton', 'wool', 'nz'], ['wisla', 'hold', 'lazio', 'six', 'goal', 'thriller'], ['woodgate', 'told', 'stay', 'away', 'elland', 'road'], ['workers', 'return', 'work', 'burrup'], ['youth', 'group', 'unhappy', 'appeal', 'carers'], ['86', 'confirmed', 'dead', 'us', 'nightclub', 'fire'], ['act', 'tourist', 'attractions', 'honoured', 'awards', 'night'], ['adelaide', 'break', 'port', 'hearts'], ['al', 'qaeda', 'members', 'jailed', 'us', 'uk', 'terrorist', 'plots'], ['arafats', 'number', 'two', 'outlines', 'proposed', 'ceasefire'], ['athens', 'risks', 'turning', 'games', 'disaster', 'ioc'], ['australia', 'urged', 'abandon', 'zimbabwe', 'world', 'cup', 'match'], ['black', 'day', 'black', 'caps'], ['blix', 'orders', 'destruction', 'iraqi', 'missiles'], ['botched', 'operation', 'leaves', 'teenager', 'brain', 'damage'], ['brockovich', 'takes', 'new', 'cancer', 'crusade', 'court'], ['brogden', 'accuses', 'carr', 'fudging', 'ambulance', 'figures'], ['brumbies', 'pip', 'reds', 'ballymore'], ['cairns', 'play', 'despite', 'brawl'], ['call', 'australian', 'human', 'rights', 'act'], ['canberra', 'capitals', 'win', '2003', 'championship'], ['capitals', 'flames', 'vie', 'wnbl', 'title'], ['captain', 'refuses', 'ship', 'wheat', 'iraq'], ['childrens', 'rights', 'overlooked', 'advocate'], ['clp', 'confident', 'winning', 'lower', 'house', 'seat'], ['coria', 'stuns', 'nalbandian', 'reach', 'argentina', 'semis'], ['croatia', 'launches', 'bid', 'eu', 'membership'], ['crusaders', 'begin', 'defence', 'win'], ['darwin', 'police', 'investigate', 'attempted', 'sex', 'assault'], ['davies', 'webb', 'share', 'masters', 'lead'], ['death', 'toll', 'rises', '39', 'us', 'club', 'blaze'], ['deputy', 'says', 'iraq', 'ready', 'dialogue', 'us'], ['despite', 'rain', 'govt', 'says', 'drought', 'isnt'], ['donald', 'left', 'bangladesh', 'clash'], ['dumbledore', 'replacement', 'picked', 'potter', 'film'], ['eagles', 'dockers', 'despite', 'mix'], ['faldo', 'withdraws', 'match', 'play', 'tournament'], ['farina', 'pays', 'tribute', 'thomson'], ['female', 'cosmonauts', 'keep', 'feet', 'ground'], ['ferrero', 'escude', 'hobble', 'rotterdam'], ['ferreros', 'rotterdam', 'campaign', 'ends', 'agony'], ['flash', 'flooding', 'keeps', 'ses', 'busy'], ['former', 'star', 'koen', 'licks', 'cats'], ['fourth', 'cup', 'race', 'postponed'], ['freeman', 'splits', 'husband'], ['french', 'african', 'leaders', 'support', 'iraq', 'inspections'], ['gebrselassie', 'breaks', 'two', 'mile', 'indoor', 'wr'], ['gebrselassie', 'breaks', 'wr', 'feofanova', 'reaches', 'new'], ['gurkhas', 'discrimination', 'case', 'fails', 'uk', 'court'], ['hearing', 'adjourned', 'prison', 'riot'], ['hip', 'pain', 'sidelines', 'golf', 'legend', 'palmer'], ['howell', 'leads', 'one', 'california'], ['hussain', 'giles', 'recalled', 'pakistan', 'clash'], ['iaea', 'begins', 'iran', 'nuclear', 'assessment'], ['iraqs', 'wheat', 'comments', 'political', 'vaile'], ['jackson', 'leads', 'caps', 'back', 'back', 'titles'], ['japan', 'backs', 'us', 'campaign', 'fresh', 'iraq', 'vote'], ['johnson', 'pittman', 'excel', 'canberra'], ['kangaroos', 'thump', 'essendon', 'hawks', 'edge', 'saints'], ['kookaburras', 'force', 'dutch', 'draw'], ['labor', 'targets', 'council', 'golden', 'handshakes'], ['lara', 'jumps', 'warnes', 'defence'], ['light', 'winds', 'delay', 'fourth', 'americas', 'cup', 'race'], ['likud', 'party', 'still', 'without', 'coalition', 'partner'], ['long', 'haul', 'graziers', 'rain', 'breaks'], ['massa', 'test', 'drives', 'championship', 'winning', 'ferrari'], ['metro', 'recruiting', 'women', 'bus', 'driver', 'positions'], ['newcastle', 'secures', 'third', 'spot'], ['confirmation', 'iraqi', 'wheat', 'order', 'awb'], ['greece', 'lightning', 'olympic', 'work', 'control'], ['nsw', 'opp', 'plans', 'inquiry', 'community', 'services'], ['nt', 'health', 'minister', 'calls', 'meeting', 'cwealth'], ['ntini', 'stars', 'bangladesh', 'felled', '108'], ['ny', 'mayor', 'plays', 'terrorist', 'attack', 'speculation'], ['nz', 'cricket', 'investigate', 'durban', 'nightclub', 'brawl'], ['oil', 'price', 'hikes', 'may', 'weigh', 'rates', 'decision'], ['one', 'killed', 'us', 'fuel', 'barge', 'explodes'], ['pair', 'missing', 'us', 'fuel', 'barge', 'explodes'], ['pearson', 'routs', 'aussie', 'women'], ['petrol', 'price', 'hike', 'compared', 'interest', 'rate', 'rise'], ['police', 'coming', 'beat', 'oppn', 'claims'], ['police', 'investigate', 'muswellbrook', 'death'], ['police', 'treat', 'hunter', 'valley', 'death', 'murder'], ['powell', 'leaves', 'japan', 'talks', 'china'], ['powell', 'starts', 'asian', 'tour', 'north', 'korea', 'talks'], ['proteas', 'demolish', 'bangladesh'], ['protesters', 'afloat', 'deliver', 'peace', 'message', 'pm'], ['public', 'less', 'concerned', 'environment', 'statistics'], ['qld', 'takes', 'gong', 'aust', 'tourism', 'awards'], ['rain', 'brings', 'relief', 'act', 'farmers'], ['rain', 'falls', 'drought', 'ravaged', 'eastern', 'states'], ['recoba', 'handed', 'three', 'match', 'champions', 'ban'], ['results', 'first', 'aids', 'vaccine', 'trial', 'released'], ['robo', 'deer', 'takes', 'bullet', 'justice'], ['roddick', 'heads', 'us', 'semis', 'memphis'], ['saddam', 'ponders', 'un', 'edict', 'scrap', 'missiles'], ['sad', 'note', 'esteemed', 'music', 'educator', 'dies'], ['sa', 'govt', 'blocks', 'glenelg', 'high', 'rise', 'apartments'], ['sampras', 'withdraws', 'arizona', 'replaced', 'hewitt'], ['sa', 'police', 'closing', 'schoolgirl', 'killer'], ['seaman', 'rested', 'maine', 'road', 'visit'], ['searchers', 'fear', '18', 'dead', 'china', 'ferry', 'sinks'], ['selectors', 'announce', 'warne', 'replacement', 'soon'], ['seles', 'face', 'henin', 'hardenne', 'dubai', 'final'], ['shop', 'owner', 'trial', 'accused', 'bali', 'bomb'], ['korea', 'subway', 'staff', 'face', 'kill', 'charges', 'fire'], ['smigun', 'takes', 'nordic', 'skiing', 'world', 'championship'], ['st', 'helens', 'win', 'super', 'league', 'season', 'opener'], ['stormers', 'slaughter', 'sharks'], ['stuttle', 'family', 'welcomes', 'travel', 'offer'], ['sunrace', 'heads', 'gloomy', 'final', 'day'], ['sun', 'shines', 'rmit', 'entry', 'eco', 'car', 'race'], ['taipans', 'stay', 'alive', 'cannons', 'dodge', 'bullets'], ['tas', 'relay', 'raise', 'money', 'cancer', 'council'], ['teenagers', 'stabbed', 'cbd', 'fight'], ['toll', 'rises', 'us', 'club', 'fire'], ['turkey', 'poised', 'iraq', 'deal', 'us'], ['two', 'killed', 'wa', 'motorbike', 'collision'], ['uk', 'warns', 'final', 'phase', 'iraq', 'stand'], ['ulster', 'militants', 'declare', 'ceasefire'], ['us', 'authorities', 'confirm', '95', 'killed', 'club', 'fire'], ['us', 'duo', 'ensures', 'american', 'semi', 'finals'], ['us', 'nightclub', 'fire', 'death', 'toll', 'hits', '39'], ['us', 'prosecutors', 'win', 'slave', 'labour', 'case', 'samoa'], ['us', 'stocks', 'rise', 'following', 'positive', 'iraqi', 'comments'], ['vic', 'govt', 'calls', 'volunteers', 'state', 'clean'], ['wa', 'opp', 'says', 'police', 'taken', 'beat'], ['warne', 'appeal', '12', 'month', 'ban'], ['weather', 'change', 'saves', 'white', 'beach', 'shacks'], ['woods', 'remains', 'hunt'], ['worker', 'electrocuted', 'piggery', 'repairs'], ['accused', 'people', 'smuggler', 'face', 'darwin', 'court'], ['act', 'struggle', 'public', 'housing', 'demand', 'mla'], ['alice', 'forum', 'discuss', 'indigenous', 'education', 'issues'], ['alinghi', 'fuming', 'another', 'cancellation'], ['least', '14', 'die', 'bus', 'tumbles', 'greece', 'river'], ['aussies', 'arrive', 'zimbabwe'], ['barca', 'deportivo', 'real', 'shine', 'spain'], ['bayern', 'open', '10', 'point', 'gap'], ['bevan', 'frustrated', 'lack', 'opportunities'], ['blair', 'puts', 'case', 'iraq', 'pope'], ['bradman', 'baggy', 'green', 'expected', 'fetch', '200000'], ['britain', 'rally', 'support', 'new', 'un', 'resolution'], ['brown', 'claims', 'french', 'landing', 'site', 'could', 'tassies'], ['butchers', 'defended', 'beef', 'prices'], ['calls', 'peaceful', 'iraqi', 'resolution'], ['cambodian', 'pm', 'denies', 'political', 'emergency'], ['carpark', 'shooting', 'sparks', 'adelaide', 'manhunt'], ['carr', 'plans', '200m', 'anti', 'drug', 'campaign'], ['cat', 'lovers', 'march', 'romes', 'sacred', 'strays'], ['cats', 'claw', 'dogs'], ['cats', 'claw', 'dogs', 'pies', 'swoop', 'blues'], ['coalition', 'launches', 'ads', 'ahead', 'election'], ['colombian', 'rebels', 'demand', 'rescuers', 'back'], ['consumers', 'wear', 'cost', 'trolley', 'loss'], ['council', 'denies', 'revenue', 'raising', 'parking', 'fees'], ['court', 'finds', 'man', 'guilty', 'gross', 'ingratitude'], ['cricketers', 'association', 'says', 'warne', 'ban', 'harsh'], ['csl', 'defends', 'acquisition', 'investigation'], ['darwin', 'cleared', 'play', 'next', 'super', '12', 'match'], ['davies', 'takes', 'ladies', 'masters'], ['davison', 'plunders', 'record', 'century'], ['deadly', 'fire', 'us', 'rock', 'club', 'whos', 'fault'], ['dems', 'block', 'govts', 'spending', 'cut', 'moves'], ['differences', 'see', 'beazley', 'stay', 'backbencher'], ['downer', 'expects', 'un', 'back', 'new', 'iraq', 'edict'], ['downer', 'pushes', 'urgent', 'us', 'talks', 'north', 'korea'], ['downer', 'unmoved', 'iraqi', 'wheat', 'decision'], ['drought', 'doom', 'turns', 'flood', 'gloom'], ['end', 'protest', 'face', 'axe', 'zimbabwe', 'players', 'told'], ['england', 'deserves', 'cup', 'favouritism', 'oneill'], ['england', 'keep', 'grand', 'slam', 'dreams', 'alive'], ['england', 'punishes', 'disappointing', 'pakistan'], ['fake', 'crocs', 'scare', 'flamingos'], ['fickle', 'weather', 'holds', 'cup', 'racing'], ['firefighters', 'continue', 'containment', 'efforts', 'near'], ['five', 'palestinians', 'die', 'army', 'crackdown'], ['flower', 'may', 'play', 'australia', 'report'], ['forensic', 'teams', 'struggle', 'identify', 'us', 'club', 'fire'], ['former', 'un', 'ambassador', 'criticises', 'howard', 'remarks'], ['freeman', 'expected', 'race', 'melbourne'], ['gatecrashers', 'blamed', 'violence', 'bali', 'thank'], ['geelong', 'fights', 'ring', 'road', 'funding'], ['govt', 'paper', 'discusses', 'preservation', 'adelaide'], ['gunners', 'demolish', 'city', 'man', 'u', 'stumble'], ['hampshire', 'chairman', 'calls', 'review', 'crickets'], ['hampshire', 'wants', 'warne', 'ban', 'done'], ['hard', 'work', 'steals', 'craftsmens', 'identities'], ['hayden', 'focusing', 'cricket', 'politics'], ['henin', 'hardenne', 'outlasts', 'seles', 'dubai', 'thriller'], ['hill', 'stars', 'tigers', 'claim', 'charity', 'cup'], ['hockeyroos', 'save', 'best', 'till', 'last'], ['hotels', 'association', 'fight', 'smoking', 'ban'], ['howell', 'extends', 'la', 'lead'], ['hussain', 'hails', 'special', 'england', 'performance'], ['iaea', 'says', 'iraqi', 'cooperation', 'improving'], ['iraqi', 'minister', 'says', 'protests', 'prompt', 'wheat', 'decision'], ['kings', 'regain', 'top', 'spot'], ['lions', 'roll', 'swans'], ['man', 'charged', 'bashing', 'nightclub', 'door'], ['man', 'charged', 'ormiston', 'attack'], ['man', 'charged', 'attempted', 'murder', 'stabbing'], ['man', 'fights', 'life', 'stabbing'], ['man', 'stabbed', 'death', 'melbourne', 'brawl'], ['maroney', 'makes', 'one', 'last', 'swim'], ['medicare', 'offices', 'busier', 'bulk', 'billing', 'dips'], ['mirnyi', 'slays', 'federer', 'reach', 'rotterdam', 'final'], ['missile', 'issue', 'resolved', 'less', 'pressure'], ['monster', 'surf', 'sweeps', 'woman', 'death'], ['magic', 'martina'], ['natasha', 'spat', 'wont', 'destroy', 'us', 'dems'], ['nataus'], ['newton', 'predicted', '2060', 'armageddon', 'reports'], ['new', 'un', 'resolution', 'would', 'give', 'hussein', 'days', 'downer'], ['nine', 'killed', 'violence', 'outside', 'karachi', 'mosque'], ['nsw', 'greens', 'call', 'parties', 'show', 'hand'], ['nt', 'uni', 'receives', 'cwealth', 'literacy', 'grant'], ['odriscoll', 'captures', 'record', 'ireland', 'downs', 'italy'], ['oil', 'water', 'mix', 'okay'], ['opec', 'pledges', 'oil', 'flow', 'despite', 'war'], ['patterson', 'says', 'states', 'make', 'offer'], ['pearson', 'says', 'bureaucracy', 'fails', 'indigenous', 'welfare'], ['perth', 'tigers', 'giants', 'notch', 'nbl', 'wins'], ['pilot', 'dies', 'ultralight', 'plunge'], ['polanski', 'gets', 'best', 'director', 'cesar', 'pianist'], ['police', 'arrest', 'pair', 'attacked', 'bricks', 'bottles'], ['police', 'search', 'men', 'shooting'], ['pope', 'urges', 'blair', 'avert', 'war'], ['psg', 'crash', 'defeat', 'despite', 'ronaldinho', 'gem'], ['rain', 'still', 'needed', 'central', 'west', 'qld'], ['raymond', 'defends', 'memphis', 'title'], ['research', 'turns', 'spotlight', 'binge', 'drinking'], ['roddick', 'wants', 'dent', 'atp', 'crown'], ['african', 'weapons', 'inspectors', 'iraq'], ['sa', 'police', 'investigate', 'fatal', 'road', 'crash'], ['searchers', 'retrieve', 'ultralight', 'pilots', 'body'], ['search', 'intensifies', 'missing', 'pilot'], ['search', 'begin', 'missing', 'pilot'], ['ses', 'busy', 'flash', 'floods', 'north', 'west', 'nsw'], ['sharks', 'steal', 'glory', 'perth'], ['sherpa', 'plans', 'worlds', 'highest', 'cyber', 'cafe', 'byo', 'oxygen'], ['storms', 'whip', 'nsw', 'coast', 'northern', 'floods', 'steady'], ['strikers', 'rout', 'kingz'], ['strikers', 'rout', 'kingz', 'united', 'knights'], ['tail', 'rescues', 'struggling', 'wa'], ['tamworth', 'flooding', 'may', 'cost', 'millions'], ['teacher', 'student', 'guidelines', 'need', 'modifying', 'mp'], ['teenager', 'dies', 'transplant', 'mix'], ['tendulkar', 'blazes', 'century', 'big', 'total'], ['territory', 'search', 'raw', 'comedy', 'talent'], ['third', 'time', 'lucky', 'canberra', 'unis', 'brisbane', 'campus'], ['tight', 'security', 'greet', 'cricketers', 'zimbabwe'], ['tourists', 'cry', 'foul', 'spilt', 'milk'], ['tropfest', 'turns', 'tarpfest', 'show', 'go'], ['turkey', 'signals', 'go', 'ahead', 'us', 'troops'], ['tyson', 'destroys', 'etienne', 'less', 'minute'], ['un', 'vote', 'iraq', 'soon', 'march', '7', 'powell'], ['us', 'spain', 'draft', 'second', 'un', 'resolution'], ['us', 'put', 'new', 'resolution', 'un'], ['warne', 'appeal', 'delay', 'naming', 'replacement'], ['warne', 'back', 'pollock'], ['warnings', 'water', 'contamination', 'recent', 'rain'], ['wa', 'struggling', 'one', 'day', 'final'], ['waugh', 'expected', 'play', 'one', 'day', 'final'], ['waugh', 'leads', 'blues', 'one', 'day', 'title'], ['weapons', 'experts', 'denounce', 'us', 'intelligence', 'iraq'], ['yemen', 'chopper', 'crash', 'kills', 'eight', 'troops'], ['94', 'dead', 'china', 'earthquake'], ['academic', 'considers', 'indigenous', 'culture', 'role'], ['adelaide', 'man', 'charged', 'firearm', 'offences'], ['ajax', 'lose', 'ground', 'utrecht', 'defeat'], ['ords', 'jumps', '33', 'points', 'higher'], ['alp', 'chooses', 'charlestown', 'candidate'], ['amino', 'levels', 'linked', 'malaria', 'treatment', 'research'], ['anti', 'french', 'jokes', 'censored', 'broadcaster', 'complains'], ['asa', 'welcomes', 'court', 'ruling', 'chairman'], ['least', 'five', 'killed', 'factional', 'afghan', 'fighting'], ['awb', 'defends', 'grain', 'freight', 'spot', 'price', 'tendering'], ['beef', 'prices', 'set', 'rise'], ['bhp', 'billiton', 'reveals', '19pc', 'profit', 'downturn'], ['blokes', 'peel', 'pants', 'peace'], ['bomb', 'alert', 'delays', 'domestic', 'flights', 'philippine'], ['boulami', 'set', 'banned', 'iaaf', 'source'], ['boy', 'almost', 'drowns', 'swept', 'storm'], ['bradman', 'baggy', 'green', 'may', 'go', 'tour'], ['britain', 'concerned', 'reports', 'iraqi', 'missiles'], ['building', 'industry', 'set', 'shake'], ['cabinet', 'meets', 'balance', 'budget', 'priorities'], ['canberra', 'steps', 'tourist', 'campaign'], ['carr', 'considers', 'clarence', 'battle'], ['celtic', 'still', 'four', 'trophies'], ['chavez', 'blasts', 'media', 'violence', 'continues'], ['civilian', 'killed', 'gunmen', 'attack', 'minibus', 'east'], ['claim', '20', 'diamond', 'miners', 'murdered', 'congo'], ['claims', 'new', 'evidence', 'unsolved', 'double', 'murder'], ['clean', 'coal', 'technology', 'still', 'years', 'away'], ['coastal', 'grazing', 'boom', 'lifts', 'property', 'prices'], ['combined', 'approach', 'tackles', 'grasshoppers'], ['committee', 'offer', 'aged', 'care', 'warning'], ['community', 'bank', 'shares', 'trading', 'shows', 'little', 'change'], ['community', 'cleans', 'drenching'], ['community', 'flocks', 'use', 'waste', 'transfer', 'station'], ['conference', 'focus', 'tuna', 'fishery'], ['council', 'hosts', 'farewell', 'mp'], ['council', 'resists', 'eba', 'roster', 'pressure'], ['customs', 'house', 'restoration', 'opened'], ['dam', 'water', 'levels', 'still', 'critically', 'low']]\n"
          ]
        }
      ]
    },
    {
      "cell_type": "markdown",
      "metadata": {
        "id": "8KH2kzQCP5DK"
      },
      "source": [
        "###We're creating a bigram and trigram. This is so that we can represent is as a BOW (bag of words) that we'll use to create our LDA model"
      ]
    },
    {
      "cell_type": "code",
      "metadata": {
        "id": "SVaL95DIh7jK"
      },
      "source": [
        "# Add bigrams and trigrams to docs, minimum count 10 means only that appear 10 times or more.\n",
        "bigram = Phrases(textList, min_count = 10)\n",
        "trigram = Phrases(bigram[textList])\n",
        "\n",
        "for index in range(len(textList)):\n",
        "  \n",
        "    for token in bigram[textList[idx]]:\n",
        "        if '_' in token:\n",
        "            # if our token is in a bigram, append the token to our list of texts.\n",
        "            textList[index].append(token)\n",
        "\n",
        "    for token in trigram[textList[idx]]:\n",
        "        if '_' in token:\n",
        "            # if our token is in a trigram, append the token to our list of texts.\n",
        "            textList[index].append(token)"
      ],
      "execution_count": null,
      "outputs": []
    },
    {
      "cell_type": "markdown",
      "metadata": {
        "id": "aCbRBaEISiuF"
      },
      "source": [
        "##Now we're going to create our LDA model"
      ]
    },
    {
      "cell_type": "markdown",
      "metadata": {
        "id": "5WJ6q6ulRVSD"
      },
      "source": [
        "###First thing first, we're going to create dictionary, which consists of all our documents that has been filtered"
      ]
    },
    {
      "cell_type": "code",
      "metadata": {
        "colab": {
          "base_uri": "https://localhost:8080/"
        },
        "id": "b90l1E75h8wG",
        "outputId": "c2e0d244-3b59-4898-b4de-64286c60fc57"
      },
      "source": [
        "# Create a dictionary representation of the documents.\n",
        "dictionary = corpora.Dictionary(textList)\n",
        "\n",
        "#Filtering our dictionary to keep tokens which are contained in at least no_below documents, and also \n",
        "#contained in no more than no_aboce documents\n",
        "dictionary.filter_extremes(no_below=4, no_above=0.3)\n",
        "print(dictionary)"
      ],
      "execution_count": null,
      "outputs": [
        {
          "output_type": "stream",
          "name": "stdout",
          "text": [
            "Dictionary(294 unique tokens: ['community', 'act', 'fire', 'calls', 'summit']...)\n"
          ]
        }
      ]
    },
    {
      "cell_type": "markdown",
      "metadata": {
        "id": "4QYyp4XGS2pf"
      },
      "source": [
        "####It shows about 294 unique tokens, which is enough for our analysis"
      ]
    },
    {
      "cell_type": "markdown",
      "metadata": {
        "id": "XlM_yO7cS9tc"
      },
      "source": [
        "###Creating our corpus, by converting the list of documents into a Document Term Matrix"
      ]
    },
    {
      "cell_type": "markdown",
      "metadata": {
        "id": "8Do1JWIFTqNS"
      },
      "source": [
        "####Basically we're creating a sparse vector by converting our dictionary into a bag of words, using doc2bow() method"
      ]
    },
    {
      "cell_type": "code",
      "metadata": {
        "colab": {
          "base_uri": "https://localhost:8080/"
        },
        "id": "IO0GswDIh-i1",
        "outputId": "73102640-a901-4abd-d243-1d8bf113bb73"
      },
      "source": [
        "#The function doc2bow converts the document into the BOW format\n",
        "doc_term_matrix = [dictionary.doc2bow(doc) for doc in textList]\n",
        "\n",
        "print(len(doc_term_matrix))"
      ],
      "execution_count": null,
      "outputs": [
        {
          "output_type": "stream",
          "name": "stdout",
          "text": [
            "1000\n"
          ]
        }
      ]
    },
    {
      "cell_type": "markdown",
      "metadata": {
        "id": "eck7DP9RUGNK"
      },
      "source": [
        "####Doesn't change, still has the size of 1000"
      ]
    },
    {
      "cell_type": "markdown",
      "metadata": {
        "id": "t-rT1mNeUKhc"
      },
      "source": [
        "###Now we're creating our TF-IDF model"
      ]
    },
    {
      "cell_type": "code",
      "metadata": {
        "id": "QKbJxUT4UDCN"
      },
      "source": [
        "tfidf_model = models.TfidfModel(doc_term_matrix) #build TF-IDF model\n",
        "tfidf_corpus = tfidf_model[doc_term_matrix]"
      ],
      "execution_count": null,
      "outputs": []
    },
    {
      "cell_type": "markdown",
      "metadata": {
        "id": "zY_pY90VVQNX"
      },
      "source": [
        "####Before creating our LDA model, we can actually first evaluate which parameter would be the best for it. We can compute the **coherence score**, which measures score a single topic by measuring the degree of semantic similarity between high scoring words in the topic."
      ]
    },
    {
      "cell_type": "code",
      "metadata": {
        "id": "2dRvbLHDiAGt"
      },
      "source": [
        "##limit, start and step is used to determine the boundary of topics we want to find\n",
        "def coherence_score(dictionary, corpus, texts, limit, start, step):\n",
        "    coherence_values = []\n",
        "    model_list = []\n",
        "\n",
        "    for n_topics in range(start, limit, step):\n",
        "        #creating our LdaModel first, this one is not final\n",
        "        model = LdaModel(corpus = corpus, id2word = dictionary, num_topics = n_topics, iterations = 100)\n",
        "        model_list.append(model)\n",
        "\n",
        "        #from all the models we've created by incrementing the number of topics exist, compute the coherence\n",
        "        #the parameter coherence is the measure we're going to use\n",
        "        coherence_model = CoherenceModel(model = model, texts = texts, dictionary = dictionary, coherence = 'c_v')\n",
        "        coherence_values.append(coherence_model.get_coherence())\n",
        "        \n",
        "    return model_list, coherence_values"
      ],
      "execution_count": null,
      "outputs": []
    },
    {
      "cell_type": "markdown",
      "metadata": {
        "id": "rDcKIt74XGuy"
      },
      "source": [
        "###Now we're ready to look at which combination gives us the highest coherence value"
      ]
    },
    {
      "cell_type": "code",
      "metadata": {
        "colab": {
          "base_uri": "https://localhost:8080/",
          "height": 279
        },
        "id": "eWdf24U_iBjk",
        "outputId": "282fa844-501e-4965-9879-32139095f147"
      },
      "source": [
        "##Defining our boundaries, the maximumm number of topic we want is 20, which is already a lot. \n",
        "start = 4\n",
        "limit = 20 \n",
        "step = 1\n",
        "\n",
        "model_list, coherence_values = coherence_score(\n",
        "    dictionary, corpus = tfidf_corpus, texts = textList, start = start, limit = limit, step = step)\n",
        "\n",
        "#show graphs\n",
        "\n",
        "x = range(start, limit, step)\n",
        "\n",
        "plt.plot(x, coherence_values)\n",
        "plt.xlabel(\"Number of Topics\")\n",
        "plt.ylabel(\"Coherence score\")\n",
        "plt.legend((\"coherence_values\"), loc='best')\n",
        "\n",
        "plt.show()"
      ],
      "execution_count": null,
      "outputs": [
        {
          "output_type": "display_data",
          "data": {
            "image/png": "[encoded data removed]",
            "text/plain": [
              "<Figure size 432x288 with 1 Axes>"
            ]
          },
          "metadata": {
            "needs_background": "light"
          }
        }
      ]
    },
    {
      "cell_type": "code",
      "metadata": {
        "colab": {
          "base_uri": "https://localhost:8080/"
        },
        "id": "zLmBQcV1ii14",
        "outputId": "69d7a1fd-a19a-48e5-dd42-3ff7e5af48d8"
      },
      "source": [
        "# Print the coherence scores\n",
        "for m, cv in zip(x, coherence_values):\n",
        "    print(\" for n_topics =\", m, \", Coherence Value =\", round(cv, 6))"
      ],
      "execution_count": null,
      "outputs": [
        {
          "output_type": "stream",
          "name": "stdout",
          "text": [
            " for n_topics = 4 , Coherence Value = 0.752128\n",
            " for n_topics = 5 , Coherence Value = 0.755694\n",
            " for n_topics = 6 , Coherence Value = 0.747103\n",
            " for n_topics = 7 , Coherence Value = 0.744518\n",
            " for n_topics = 8 , Coherence Value = 0.750389\n",
            " for n_topics = 9 , Coherence Value = 0.738939\n",
            " for n_topics = 10 , Coherence Value = 0.743066\n",
            " for n_topics = 11 , Coherence Value = 0.738816\n",
            " for n_topics = 12 , Coherence Value = 0.733476\n",
            " for n_topics = 13 , Coherence Value = 0.739237\n",
            " for n_topics = 14 , Coherence Value = 0.746674\n",
            " for n_topics = 15 , Coherence Value = 0.731466\n",
            " for n_topics = 16 , Coherence Value = 0.731974\n",
            " for n_topics = 17 , Coherence Value = 0.726178\n",
            " for n_topics = 18 , Coherence Value = 0.725838\n",
            " for n_topics = 19 , Coherence Value = 0.734662\n"
          ]
        }
      ]
    },
    {
      "cell_type": "markdown",
      "metadata": {
        "id": "Odr6ZJwwZVPF"
      },
      "source": [
        "####Turns out it is n = 5, which has coherence value of 0.75. We're going to use this to create our real LdaModel this time"
      ]
    },
    {
      "cell_type": "code",
      "metadata": {
        "colab": {
          "base_uri": "https://localhost:8080/"
        },
        "id": "j4YNmlLCij4V",
        "outputId": "3566acc7-0c9d-4a65-dd33-31be3f20ac06"
      },
      "source": [
        "model = LdaModel(corpus = tfidf_corpus,\n",
        "                 id2word = dictionary,\n",
        "                 num_topics = 5,\n",
        "                 alpha = \"auto\",\n",
        "                 random_state = 100)\n",
        "\n",
        "for i, topic in model.print_topics(-1):\n",
        "    print('Topic: {} Word: {}'.format(i, topic))"
      ],
      "execution_count": null,
      "outputs": [
        {
          "output_type": "stream",
          "name": "stdout",
          "text": [
            "Topic: 0 Word: 0.021*\"record\" + 0.020*\"death\" + 0.016*\"says\" + 0.015*\"qld\" + 0.014*\"cup\" + 0.013*\"probe\" + 0.012*\"wa\" + 0.012*\"race\" + 0.012*\"public\" + 0.012*\"river\"\n",
            "Topic: 1 Word: 0.036*\"man\" + 0.021*\"council\" + 0.015*\"nsw\" + 0.015*\"court\" + 0.015*\"raid\" + 0.015*\"go\" + 0.014*\"arsenal\" + 0.014*\"plane\" + 0.013*\"leaves\" + 0.013*\"rotterdam\"\n",
            "Topic: 2 Word: 0.020*\"us\" + 0.019*\"man\" + 0.019*\"bid\" + 0.018*\"work\" + 0.015*\"world\" + 0.014*\"charged\" + 0.013*\"plan\" + 0.013*\"drought\" + 0.013*\"back\" + 0.012*\"stay\"\n",
            "Topic: 3 Word: 0.030*\"fire\" + 0.021*\"trial\" + 0.019*\"water\" + 0.016*\"warne\" + 0.016*\"war\" + 0.014*\"us\" + 0.014*\"community\" + 0.013*\"club\" + 0.012*\"sa\" + 0.012*\"back\"\n",
            "Topic: 4 Word: 0.027*\"police\" + 0.026*\"new\" + 0.023*\"rain\" + 0.017*\"win\" + 0.013*\"may\" + 0.013*\"takes\" + 0.012*\"council\" + 0.012*\"boost\" + 0.012*\"us\" + 0.012*\"denies\"\n"
          ]
        }
      ]
    },
    {
      "cell_type": "markdown",
      "metadata": {
        "id": "Mlbp0RiqZpx3"
      },
      "source": [
        "##That is the topic-word distributions for all our topics. We're pretty much done here, but we need some visualization!"
      ]
    },
    {
      "cell_type": "code",
      "metadata": {
        "colab": {
          "base_uri": "https://localhost:8080/"
        },
        "id": "8MGnnqOtin79",
        "outputId": "b8707186-f55e-49d6-bacf-f9a49f85cd05"
      },
      "source": [
        "topwords = []\n",
        "\n",
        "for t in range(model.num_topics):\n",
        "    topwords.extend([(t, ) + x for x in model.show_topic(t, topn = 10)])\n",
        "\n",
        "df = pd.DataFrame(topwords, columns=['Topic', 'Word', 'Probability'])\n",
        "print(df)"
      ],
      "execution_count": null,
      "outputs": [
        {
          "output_type": "stream",
          "name": "stdout",
          "text": [
            "    Topic       Word  Probability\n",
            "0       0     record     0.020653\n",
            "1       0      death     0.020424\n",
            "2       0       says     0.015945\n",
            "3       0        qld     0.015488\n",
            "4       0        cup     0.013855\n",
            "5       0      probe     0.012718\n",
            "6       0         wa     0.012405\n",
            "7       0       race     0.012257\n",
            "8       0     public     0.012061\n",
            "9       0      river     0.011619\n",
            "10      1        man     0.036335\n",
            "11      1    council     0.021235\n",
            "12      1        nsw     0.015449\n",
            "13      1      court     0.015331\n",
            "14      1       raid     0.015208\n",
            "15      1         go     0.014860\n",
            "16      1    arsenal     0.014287\n",
            "17      1      plane     0.013731\n",
            "18      1     leaves     0.013314\n",
            "19      1  rotterdam     0.013281\n",
            "20      2         us     0.020026\n",
            "21      2        man     0.019235\n",
            "22      2        bid     0.018537\n",
            "23      2       work     0.017724\n",
            "24      2      world     0.015383\n",
            "25      2    charged     0.013541\n",
            "26      2       plan     0.012959\n",
            "27      2    drought     0.012609\n",
            "28      2       back     0.012534\n",
            "29      2       stay     0.012409\n",
            "30      3       fire     0.029650\n",
            "31      3      trial     0.020556\n",
            "32      3      water     0.018949\n",
            "33      3      warne     0.016435\n",
            "34      3        war     0.015887\n",
            "35      3         us     0.013755\n",
            "36      3  community     0.013500\n",
            "37      3       club     0.012570\n",
            "38      3         sa     0.012438\n",
            "39      3       back     0.012428\n",
            "40      4     police     0.027093\n",
            "41      4        new     0.025663\n",
            "42      4       rain     0.023292\n",
            "43      4        win     0.017109\n",
            "44      4        may     0.012811\n",
            "45      4      takes     0.012646\n",
            "46      4    council     0.012311\n",
            "47      4      boost     0.012256\n",
            "48      4         us     0.012056\n",
            "49      4     denies     0.011937\n"
          ]
        }
      ]
    },
    {
      "cell_type": "markdown",
      "metadata": {
        "id": "IO3Q6IJAbKW3"
      },
      "source": [
        "###We're using a library called pyLDAvis, which can be used to visualize our LDA model"
      ]
    },
    {
      "cell_type": "code",
      "metadata": {
        "id": "MN6xIl1eirdb"
      },
      "source": [
        "pyLDAvis.enable_notebook()"
      ],
      "execution_count": null,
      "outputs": []
    },
    {
      "cell_type": "code",
      "metadata": {
        "colab": {
          "base_uri": "https://localhost:8080/",
          "height": 861
        },
        "id": "89JpwvvMtm0G",
        "outputId": "044cea3f-570c-4952-be48-7e19dedd43cd"
      },
      "source": [
        "data = gensimvis.prepare(model, tfidf_corpus, dictionary, mds = \"mmds\")\n",
        "data"
      ],
      "execution_count": null,
      "outputs": [
        {
          "output_type": "execute_result",
          "data": {
            "text/html": [
              "\n",
              "<link rel=\"stylesheet\" type=\"text/css\" href=\"https://cdn.jsdelivr.net/gh/bmabey/pyLDAvis@3.3.1/pyLDAvis/js/ldavis.v1.0.0.css\">\n",
              "\n",
              "\n",
              "<div id=\"ldavis_el4561402613616058406410064667\"></div>\n",
              "<script type=\"text/javascript\">\n",
              "\n",
              "var ldavis_el4561402613616058406410064667_data = {\"mdsDat\": {\"x\": [-0.04862503207494398, -0.038781439745535114, -0.1291749399717304, 0.10607123727431643, 0.11051017451789309], \"y\": [0.12278638472899864, -0.13150612929447408, -0.002359269708541552, -0.06734680051778223, 0.07842581479179926], \"topics\": [1, 2, 3, 4, 5], \"cluster\": [1, 1, 1, 1, 1], \"Freq\": [21.28219426727426, 21.243027783053922, 20.715111957442844, 18.804670034054855, 17.95499595817412]}, \"tinfo\": {\"Term\": [\"man\", \"trial\", \"fire\", \"bid\", \"new\", \"work\", \"police\", \"record\", \"death\", \"qld\", \"meeting\", \"rotterdam\", \"leaves\", \"arsenal\", \"warne\", \"raid\", \"boost\", \"win\", \"denies\", \"water\", \"probe\", \"turkey\", \"council\", \"takes\", \"back\", \"go\", \"club\", \"violence\", \"wa\", \"charged\", \"boost\", \"denies\", \"industry\", \"protect\", \"ruling\", \"takes\", \"aussie\", \"human\", \"masters\", \"move\", \"new\", \"security\", \"win\", \"wins\", \"flooding\", \"zimbabwe\", \"police\", \"play\", \"coast\", \"seat\", \"decision\", \"ready\", \"urged\", \"battle\", \"guilty\", \"rain\", \"match\", \"may\", \"backs\", \"gold\", \"england\", \"qantas\", \"claims\", \"mp\", \"claim\", \"war\", \"council\", \"us\", \"still\", \"court\", \"iraq\", \"drought\", \"trial\", \"spill\", \"warne\", \"less\", \"community\", \"fire\", \"hearing\", \"impact\", \"issues\", \"reports\", \"club\", \"tells\", \"coalition\", \"despite\", \"ahead\", \"hit\", \"sa\", \"defends\", \"house\", \"predicted\", \"smoking\", \"turkey\", \"water\", \"criticism\", \"troops\", \"firefighters\", \"injured\", \"ethanol\", \"support\", \"calls\", \"anti\", \"war\", \"back\", \"crash\", \"appeal\", \"govt\", \"us\", \"iraq\", \"day\", \"pm\", \"qld\", \"march\", \"wine\", \"probe\", \"record\", \"show\", \"least\", \"report\", \"investigation\", \"inquiry\", \"river\", \"death\", \"wheat\", \"public\", \"mine\", \"federal\", \"wa\", \"scrap\", \"cup\", \"jail\", \"two\", \"race\", \"leads\", \"cairns\", \"canberra\", \"offer\", \"could\", \"considers\", \"rejects\", \"break\", \"says\", \"patterson\", \"un\", \"still\", \"ban\", \"iraqi\", \"anti\", \"nsw\", \"council\", \"bid\", \"violence\", \"weapons\", \"fuel\", \"likely\", \"work\", \"big\", \"adelaide\", \"warns\", \"makes\", \"visit\", \"third\", \"profit\", \"case\", \"world\", \"stay\", \"charged\", \"north\", \"landing\", \"jailed\", \"second\", \"korea\", \"emergency\", \"final\", \"force\", \"meeting\", \"stabbing\", \"low\", \"price\", \"attack\", \"killed\", \"act\", \"plan\", \"call\", \"drought\", \"back\", \"us\", \"murder\", \"man\", \"face\", \"govt\", \"court\", \"iraq\", \"rotterdam\", \"leaves\", \"arsenal\", \"raid\", \"clash\", \"home\", \"players\", \"dies\", \"carr\", \"tourist\", \"plane\", \"fails\", \"policy\", \"china\", \"go\", \"drug\", \"begins\", \"health\", \"end\", \"10\", \"million\", \"fight\", \"land\", \"man\", \"accused\", \"awards\", \"vic\", \"head\", \"point\", \"states\", \"council\", \"funds\", \"nsw\", \"court\", \"meeting\", \"murder\", \"opp\", \"face\", \"us\", \"govt\", \"may\"], \"Freq\": [17.0, 6.0, 11.0, 5.0, 10.0, 5.0, 12.0, 8.0, 8.0, 5.0, 5.0, 3.0, 3.0, 4.0, 6.0, 5.0, 4.0, 7.0, 4.0, 9.0, 4.0, 5.0, 12.0, 4.0, 7.0, 5.0, 5.0, 3.0, 5.0, 5.0, 3.3634909678997835, 3.2761317121445868, 2.501312932554932, 2.188848246791963, 2.1501064004374557, 3.470661926615166, 2.107077526591371, 1.9843971005239853, 3.050768894348231, 2.628620715647658, 7.043159958000017, 2.0764193693089994, 4.695389193078464, 2.7371565708784695, 2.009757976854623, 2.8377957074118707, 7.4355682173829525, 2.113993769065338, 2.7793581998608494, 1.7031761484323105, 2.4528381471721463, 1.9057252577303327, 2.5829201974518505, 1.5518686793446985, 1.7707231900301252, 6.392545994518575, 2.3945169369833947, 3.515907479305831, 1.9367614453397302, 1.7655406728490708, 2.9397516879242027, 2.7153851934643902, 2.910894606165421, 2.3439866276723174, 2.4855997531200082, 3.1779366094090373, 3.3788041355282195, 3.308677848474002, 2.614195753148645, 2.714689709678158, 2.564714931682577, 2.3923218562203794, 5.631279654932892, 2.326697073372409, 4.502218946457514, 3.2233921107983323, 3.698305364627751, 8.12225199678841, 2.4576087155852013, 2.239214120440289, 2.170348893500355, 2.1516094713520277, 3.4433202816131963, 1.853345714444245, 2.0725726653740875, 2.4061674697431426, 2.2493878680680797, 2.524718405312536, 3.4071795847776785, 2.8825658248826236, 2.4047469158701946, 1.7184998676700671, 1.5411709643253604, 3.1993608193194225, 5.1907992697016505, 1.3797982894867418, 2.1858466566131804, 2.1117261712407904, 2.748970489029469, 2.2662957247972453, 1.7820627650228114, 3.3602837031239163, 3.001070837374228, 4.352095894908004, 3.4045680924207296, 2.365451048462345, 2.409647163398519, 3.1266696897432236, 3.7680436403021007, 2.9703357970509265, 2.428810098375347, 2.249142944986537, 4.137466089265851, 2.597563438281406, 2.221515469090409, 3.3972776399686326, 5.517166463833757, 2.7420326132347363, 2.2305733409427866, 3.0300203443667346, 2.1433654504163697, 2.0296949803071693, 3.1038125932273744, 5.455927308800172, 2.3930711838167498, 3.2218107298074634, 2.236970425620335, 2.6321917361112437, 3.313876453936097, 1.7736065919306097, 3.7011741168598125, 2.0328696390022984, 1.8432236813365526, 3.2741529787953194, 3.028689826385343, 1.48211455806359, 1.9130620676281438, 3.053006361071439, 1.6033159639535914, 1.7934028982689292, 2.3700085404220177, 1.9912343528241228, 4.259489117376037, 2.463629189267125, 2.818920033038999, 3.0784805061104548, 2.2379193028793156, 2.421463113987734, 2.268579184044759, 2.3109626999965016, 2.2705224667584187, 4.4951665622782455, 2.698629756723863, 2.62819388155549, 2.38420826847911, 2.3705754455937487, 4.297967160430035, 2.642337110969924, 2.4279320405328466, 1.652314552535313, 2.0634880023158506, 2.326430023544535, 1.9481923618011596, 2.2392765278002704, 2.3037609725022223, 3.7303086020040728, 3.00915792720106, 3.283677594583001, 1.4522951546139788, 1.3439653210813411, 2.586647241776203, 2.1229736248432514, 1.665108027692667, 1.3412645704273984, 2.3038185626194405, 1.6563762367043837, 2.9682917541793374, 2.071606627938456, 1.5987417412192575, 1.7346115075710953, 2.039355484765401, 2.6303450418162924, 2.1661212698812076, 3.1424517214862617, 2.3161929849826826, 3.0577642119769264, 3.039532761770782, 4.85633293237293, 2.8405417426680897, 4.6643636165425315, 2.686892213303977, 2.8692658863878164, 2.7554601360821036, 2.5057604541596805, 3.0750223204887543, 3.0826624114432297, 3.3079495665084533, 3.521212257791473, 2.664379184013007, 2.483715076691884, 2.2277690107704795, 2.4361172884815967, 2.05454876288341, 2.015102777053931, 3.1793502099751496, 1.9987446156168562, 1.6990075451618467, 1.8919541283686738, 3.4407484932178343, 2.1840550971913264, 2.072901154101659, 2.9982032868581734, 2.225104574873401, 1.7424038224447556, 2.2943294486636265, 1.832292198794032, 1.5554694711290302, 8.413066320933359, 1.5813008709437817, 1.5063853908808171, 1.3953636345186433, 1.4025120684768952, 1.304050315436452, 1.677229404438989, 4.91671659677943, 2.959498452386599, 3.5770248149803305, 3.549680491707024, 2.2528517118611573, 2.399287651044742, 1.7700695556973916, 2.229417139902996, 2.8092653254633198, 2.115341503549366, 1.9159463428672887], \"Total\": [17.0, 6.0, 11.0, 5.0, 10.0, 5.0, 12.0, 8.0, 8.0, 5.0, 5.0, 3.0, 3.0, 4.0, 6.0, 5.0, 4.0, 7.0, 4.0, 9.0, 4.0, 5.0, 12.0, 4.0, 7.0, 5.0, 5.0, 3.0, 5.0, 5.0, 4.068356309248749, 4.001024726676745, 3.195084894331458, 2.8700130713371337, 2.82890088382284, 4.587563203901074, 2.791915023353736, 2.660128185133969, 4.366726479324241, 3.8310522760165817, 10.472718048924131, 3.1201923562853744, 7.166938166200671, 4.303462792184928, 3.2182602306627204, 4.6977986480229905, 12.415690374823281, 3.567039829032819, 4.800319228699496, 2.979553064565027, 4.343641230179095, 3.403491950985315, 4.631172387198793, 2.788147685527445, 3.194077278098745, 11.844515235588325, 4.533936925279057, 6.695021502702797, 3.690688778472418, 3.3940795215848705, 5.663223449287315, 5.374552491208287, 6.390297175948593, 5.0055539502348525, 5.883595041561602, 9.822757743433112, 12.368405326009148, 16.092151012528625, 7.538382487658343, 10.507252610851223, 9.67376600259644, 7.618962324331537, 6.380410529279642, 3.006500718806594, 6.236887228924841, 4.534909984624128, 5.261029691078873, 11.937425561666338, 3.693972772454503, 3.4361425116669744, 3.3484790356115517, 3.3395472544374236, 5.394637257785004, 2.943170349778137, 3.330303775767901, 3.9189489948790426, 3.685470054105723, 4.150394969230784, 5.624813318745887, 4.830459378736296, 4.133508730931607, 2.996879828492443, 2.6940973399306056, 5.617055656560291, 9.191300818110218, 2.460565439048868, 3.9750151853987123, 3.8678121988935974, 5.092203077674572, 4.27407483802805, 3.496134971619978, 6.620299305141693, 6.174128722066349, 9.822757743433112, 7.817153835920496, 4.790251033097508, 5.2586410536285015, 9.501041466770252, 16.092151012528625, 9.67376600259644, 6.111401054822782, 5.890937703955681, 5.252180645110224, 3.299481574105677, 2.89892745299965, 4.50147989808553, 8.063060534067246, 4.0580614299751705, 3.3210414644176356, 4.624286259607279, 3.3212526994458162, 3.148488628386388, 4.839780405233288, 8.53287763651358, 3.760319080966167, 5.066170372544757, 3.5228246526300535, 4.186086005928668, 5.296685314951463, 2.8406049433557854, 6.074926380558445, 3.3384534285094603, 3.0823304518280614, 5.622357619235724, 5.231827843019211, 2.599791701422548, 3.4863497300616935, 5.5693552746976325, 3.0043506575940704, 3.382963435477987, 4.4951397749232935, 3.8041802569541985, 8.273443987876966, 4.891099939793149, 6.147188262064003, 7.538382487658343, 4.777410772111787, 5.83288292049683, 6.174128722066349, 9.984040070012128, 12.368405326009148, 5.252211566469601, 3.403193517063107, 3.328490375060026, 3.0666723314638076, 3.062716986089417, 5.64531126500593, 3.795665090081807, 3.7041461005486105, 2.6752981353256122, 3.404686460683279, 3.872312517839098, 3.2874951801777623, 3.8567650673864162, 3.9926017072514, 6.492619996274363, 5.256281333296366, 5.760645188901022, 2.567729892236382, 2.433348927053785, 4.713755841306478, 3.926806700160445, 3.105215259680847, 2.503641342197493, 4.374018473794537, 3.207217814334143, 5.778033654204944, 4.059868468494932, 3.1770780506048597, 3.4589291899253425, 4.067623406449202, 5.339038269010575, 4.587324805794734, 7.6039875412071565, 5.075711714521673, 7.618962324331537, 7.817153835920496, 16.092151012528625, 7.1848035623735065, 17.55379338016231, 6.977459811132508, 9.501041466770252, 10.507252610851223, 9.67376600259644, 3.7742495307835515, 3.7930619103213745, 4.595164166425038, 5.16138959805224, 3.9217953180648535, 3.7359299692188084, 3.3511003390835263, 3.6994850803276624, 3.195776598669885, 3.169460255275302, 5.0395413015644746, 3.2075718908814945, 2.760079561796309, 3.1729697275244164, 5.846065399583885, 3.9011938643771042, 3.7060789763457196, 5.391561784077959, 4.041558179427938, 3.2248939686400693, 4.38143940301801, 3.665791293013833, 3.2011256654528166, 17.55379338016231, 3.325080426861573, 3.1710854545872675, 3.030106539679454, 3.055658460845213, 2.862230820086028, 3.7783777004128125, 12.368405326009148, 7.504278908656309, 9.984040070012128, 10.507252610851223, 5.778033654204944, 7.1848035623735065, 4.156741470271159, 6.977459811132508, 16.092151012528625, 9.501041466770252, 6.695021502702797], \"Category\": [\"Default\", \"Default\", \"Default\", \"Default\", \"Default\", \"Default\", \"Default\", \"Default\", \"Default\", \"Default\", \"Default\", \"Default\", \"Default\", \"Default\", \"Default\", \"Default\", \"Default\", \"Default\", \"Default\", \"Default\", \"Default\", \"Default\", \"Default\", \"Default\", \"Default\", \"Default\", \"Default\", \"Default\", \"Default\", \"Default\", \"Topic1\", \"Topic1\", \"Topic1\", \"Topic1\", \"Topic1\", \"Topic1\", \"Topic1\", \"Topic1\", \"Topic1\", \"Topic1\", \"Topic1\", \"Topic1\", \"Topic1\", \"Topic1\", \"Topic1\", \"Topic1\", \"Topic1\", \"Topic1\", \"Topic1\", \"Topic1\", \"Topic1\", \"Topic1\", \"Topic1\", \"Topic1\", \"Topic1\", \"Topic1\", \"Topic1\", \"Topic1\", \"Topic1\", \"Topic1\", \"Topic1\", \"Topic1\", \"Topic1\", \"Topic1\", \"Topic1\", \"Topic1\", \"Topic1\", \"Topic1\", \"Topic1\", \"Topic1\", \"Topic1\", \"Topic1\", \"Topic2\", \"Topic2\", \"Topic2\", \"Topic2\", \"Topic2\", \"Topic2\", \"Topic2\", \"Topic2\", \"Topic2\", \"Topic2\", \"Topic2\", \"Topic2\", \"Topic2\", \"Topic2\", \"Topic2\", \"Topic2\", \"Topic2\", \"Topic2\", \"Topic2\", \"Topic2\", \"Topic2\", \"Topic2\", \"Topic2\", \"Topic2\", \"Topic2\", \"Topic2\", \"Topic2\", \"Topic2\", \"Topic2\", \"Topic2\", \"Topic2\", \"Topic2\", \"Topic2\", \"Topic2\", \"Topic2\", \"Topic2\", \"Topic2\", \"Topic2\", \"Topic2\", \"Topic2\", \"Topic3\", \"Topic3\", \"Topic3\", \"Topic3\", \"Topic3\", \"Topic3\", \"Topic3\", \"Topic3\", \"Topic3\", \"Topic3\", \"Topic3\", \"Topic3\", \"Topic3\", \"Topic3\", \"Topic3\", \"Topic3\", \"Topic3\", \"Topic3\", \"Topic3\", \"Topic3\", \"Topic3\", \"Topic3\", \"Topic3\", \"Topic3\", \"Topic3\", \"Topic3\", \"Topic3\", \"Topic3\", \"Topic3\", \"Topic3\", \"Topic3\", \"Topic3\", \"Topic3\", \"Topic3\", \"Topic3\", \"Topic3\", \"Topic3\", \"Topic3\", \"Topic3\", \"Topic4\", \"Topic4\", \"Topic4\", \"Topic4\", \"Topic4\", \"Topic4\", \"Topic4\", \"Topic4\", \"Topic4\", \"Topic4\", \"Topic4\", \"Topic4\", \"Topic4\", \"Topic4\", \"Topic4\", \"Topic4\", \"Topic4\", \"Topic4\", \"Topic4\", \"Topic4\", \"Topic4\", \"Topic4\", \"Topic4\", \"Topic4\", \"Topic4\", \"Topic4\", \"Topic4\", \"Topic4\", \"Topic4\", \"Topic4\", \"Topic4\", \"Topic4\", \"Topic4\", \"Topic4\", \"Topic4\", \"Topic4\", \"Topic4\", \"Topic4\", \"Topic4\", \"Topic4\", \"Topic4\", \"Topic4\", \"Topic4\", \"Topic5\", \"Topic5\", \"Topic5\", \"Topic5\", \"Topic5\", \"Topic5\", \"Topic5\", \"Topic5\", \"Topic5\", \"Topic5\", \"Topic5\", \"Topic5\", \"Topic5\", \"Topic5\", \"Topic5\", \"Topic5\", \"Topic5\", \"Topic5\", \"Topic5\", \"Topic5\", \"Topic5\", \"Topic5\", \"Topic5\", \"Topic5\", \"Topic5\", \"Topic5\", \"Topic5\", \"Topic5\", \"Topic5\", \"Topic5\", \"Topic5\", \"Topic5\", \"Topic5\", \"Topic5\", \"Topic5\", \"Topic5\", \"Topic5\", \"Topic5\", \"Topic5\", \"Topic5\", \"Topic5\"], \"logprob\": [30.0, 29.0, 28.0, 27.0, 26.0, 25.0, 24.0, 23.0, 22.0, 21.0, 20.0, 19.0, 18.0, 17.0, 16.0, 15.0, 14.0, 13.0, 12.0, 11.0, 10.0, 9.0, 8.0, 7.0, 6.0, 5.0, 4.0, 3.0, 2.0, 1.0, -4.4018, -4.4281, -4.6979, -4.8314, -4.8492, -4.3704, -4.8695, -4.9294, -4.4994, -4.6483, -3.6627, -4.8841, -4.0682, -4.6078, -4.9167, -4.5717, -3.6085, -4.8662, -4.5925, -5.0823, -4.7175, -4.9699, -4.6658, -5.1753, -5.0434, -3.7596, -4.7416, -4.3575, -4.9537, -5.0463, -4.5364, -4.6158, -4.5463, -4.7629, -4.7042, -4.4585, -4.3972, -4.4182, -4.6538, -4.6161, -4.6729, -4.7425, -3.8846, -4.7685, -4.1083, -4.4425, -4.305, -3.5183, -4.7137, -4.8068, -4.838, -4.8467, -4.3765, -4.9959, -4.8841, -4.7349, -4.8023, -4.6868, -4.387, -4.5542, -4.7355, -5.0715, -5.1804, -4.45, -3.966, -5.291, -4.8309, -4.8654, -4.6017, -4.7948, -5.0351, -4.4009, -4.5139, -4.1423, -4.3878, -4.7519, -4.7334, -4.4729, -4.2864, -4.5242, -4.7255, -4.8024, -4.1677, -4.6332, -4.7896, -4.3648, -3.8799, -4.5791, -4.7855, -4.4792, -4.8254, -4.8799, -4.4551, -3.891, -4.7152, -4.4178, -4.7826, -4.6199, -4.3896, -5.0147, -4.2791, -4.8783, -4.9762, -4.4017, -4.4796, -5.1943, -4.939, -4.4716, -5.1157, -5.0036, -4.7249, -4.899, -4.1386, -4.6861, -4.5514, -4.4633, -4.7822, -4.7034, -4.7686, -4.7501, -4.7677, -3.988, -4.4982, -4.5247, -4.6221, -4.6279, -4.0329, -4.5193, -4.604, -4.9888, -4.7666, -4.6467, -4.8241, -4.6848, -4.6564, -4.1745, -4.3893, -4.302, -5.1178, -5.1954, -4.5406, -4.7382, -4.9811, -5.1974, -4.6564, -4.9864, -4.403, -4.7627, -5.0218, -4.9402, -4.7784, -4.5239, -4.7181, -4.346, -4.6511, -4.3733, -4.3793, -3.9107, -4.447, -3.951, -4.5026, -4.4369, -4.4774, -4.5724, -4.3214, -4.319, -4.2484, -4.186, -4.4648, -4.535, -4.6438, -4.5543, -4.7247, -4.7441, -4.2881, -4.7522, -4.9147, -4.8071, -4.2091, -4.6636, -4.7158, -4.3467, -4.645, -4.8895, -4.6143, -4.8392, -5.003, -3.315, -4.9865, -5.035, -5.1116, -5.1065, -5.1793, -4.9276, -3.8521, -4.3597, -4.1702, -4.1779, -4.6326, -4.5696, -4.8737, -4.643, -4.4118, -4.6955, -4.7945], \"loglift\": [30.0, 29.0, 28.0, 27.0, 26.0, 25.0, 24.0, 23.0, 22.0, 21.0, 20.0, 19.0, 18.0, 17.0, 16.0, 15.0, 14.0, 13.0, 12.0, 11.0, 10.0, 9.0, 8.0, 7.0, 6.0, 5.0, 4.0, 3.0, 2.0, 1.0, 1.357, 1.3474, 1.3025, 1.2764, 1.2729, 1.2683, 1.2659, 1.2542, 1.1887, 1.1706, 1.1506, 1.14, 1.1244, 1.0948, 1.0765, 1.0432, 1.0346, 1.0241, 1.0008, 0.988, 0.9758, 0.9674, 0.9634, 0.9614, 0.9574, 0.9306, 0.9089, 0.9032, 0.9025, 0.8937, 0.8916, 0.8646, 0.761, 0.7886, 0.6856, 0.4188, 0.2497, -0.0345, 0.4882, 0.1939, 0.2197, 0.3889, 1.4242, 1.2928, 1.2232, 1.2078, 1.1967, 1.1641, 1.1416, 1.1209, 1.1155, 1.1095, 1.1002, 1.0866, 1.0749, 1.0614, 1.0554, 1.0521, 1.0478, 1.0329, 1.0075, 0.993, 0.9906, 0.9863, 0.9778, 0.9707, 0.9511, 0.944, 0.9327, 0.9147, 0.8753, 0.871, 0.8277, 0.7351, 0.7179, 0.8435, 0.7687, 0.4377, 0.0974, 0.3684, 0.6264, 0.5863, 1.3357, 1.3351, 1.3082, 1.2929, 1.1949, 1.1823, 1.1763, 1.1516, 1.1363, 1.1353, 1.1301, 1.1271, 1.1224, 1.1217, 1.1202, 1.1104, 1.1053, 1.1033, 1.0788, 1.0782, 1.0601, 1.0336, 1.0277, 1.0123, 0.9742, 0.9732, 0.9463, 0.9397, 0.9342, 0.927, 0.9104, 0.8885, 0.7947, 0.6787, 0.816, 0.6952, 0.5731, 0.111, -0.1208, 1.5154, 1.4391, 1.4348, 1.4193, 1.4149, 1.3984, 1.3089, 1.2487, 1.1892, 1.1703, 1.1615, 1.1478, 1.1274, 1.1212, 1.1169, 1.1133, 1.109, 1.1012, 1.0774, 1.0709, 1.0561, 1.0479, 1.0469, 1.03, 1.0103, 1.005, 0.9982, 0.9843, 0.9809, 0.9806, 0.9631, 0.9207, 0.7874, 0.8865, 0.7581, 0.7264, 0.473, 0.7431, 0.3457, 0.7168, 0.4737, 0.3326, 0.3202, 1.5124, 1.5099, 1.3886, 1.3349, 1.3307, 1.3091, 1.309, 1.2995, 1.2755, 1.2644, 1.2567, 1.2443, 1.2321, 1.2002, 1.1872, 1.1372, 1.1363, 1.1305, 1.1205, 1.1017, 1.0704, 1.0238, 0.9956, 0.9818, 0.9741, 0.9729, 0.9419, 0.9386, 0.9312, 0.9052, 0.7948, 0.7868, 0.6908, 0.6321, 0.7754, 0.6205, 0.8636, 0.5764, -0.0281, 0.2151, 0.4661]}, \"token.table\": {\"Topic\": [2, 4, 5, 2, 4, 5, 1, 3, 4, 5, 3, 4, 2, 3, 4, 2, 3, 5, 1, 2, 4, 5, 3, 5, 1, 4, 1, 3, 5, 1, 2, 3, 4, 1, 5, 2, 3, 4, 1, 2, 3, 4, 5, 4, 1, 4, 1, 1, 3, 5, 3, 5, 1, 3, 4, 1, 2, 3, 4, 5, 3, 4, 1, 5, 1, 2, 4, 2, 4, 5, 2, 5, 1, 3, 4, 5, 1, 3, 5, 1, 5, 2, 3, 2, 3, 1, 2, 4, 5, 1, 2, 5, 1, 3, 4, 1, 3, 1, 2, 3, 4, 5, 1, 2, 3, 4, 5, 2, 3, 5, 2, 4, 1, 3, 5, 1, 2, 3, 4, 5, 1, 3, 4, 5, 1, 2, 3, 1, 2, 3, 1, 1, 2, 5, 3, 5, 1, 2, 3, 4, 1, 4, 5, 1, 4, 3, 5, 1, 2, 3, 4, 2, 4, 1, 2, 4, 5, 2, 5, 1, 2, 3, 1, 3, 5, 1, 2, 4, 5, 2, 3, 4, 5, 1, 2, 3, 1, 2, 1, 2, 4, 4, 1, 2, 3, 4, 5, 1, 2, 5, 1, 4, 5, 2, 3, 4, 5, 1, 5, 2, 5, 1, 3, 4, 5, 1, 2, 1, 2, 5, 1, 5, 1, 2, 3, 1, 1, 2, 1, 2, 3, 3, 5, 2, 3, 1, 2, 3, 4, 1, 3, 5, 1, 2, 2, 3, 4, 5, 2, 3, 4, 5, 3, 4, 5, 1, 3, 5, 1, 4, 1, 2, 3, 4, 2, 3, 5, 2, 3, 4, 3, 4, 5, 4, 5, 1, 2, 3, 4, 5, 3, 1, 5, 1, 2, 3, 1, 3, 4, 5, 4, 5, 1, 2, 5, 2, 3, 1, 2, 1, 2, 5, 1, 2, 4, 5, 1, 2, 3, 4, 5, 2, 4, 1, 2, 3, 4, 5, 2, 3, 4, 1, 3, 4, 5, 1, 3, 5, 1, 2, 3, 4, 5, 2, 3, 5, 1, 2, 5, 3, 5, 1, 2, 3, 4, 5, 1, 3, 5, 1, 2, 3, 4, 1, 5, 2, 3, 1, 2, 4, 1, 3, 1, 4, 1, 2, 3, 4, 1, 3, 4, 5, 1, 3, 1, 3, 4, 5, 1, 2, 5, 1, 2, 3, 4, 5, 1, 3, 1, 3, 5, 1, 3, 4, 1, 3, 4, 2, 3, 2, 3, 5, 1, 1, 2, 4, 1, 2, 3, 5, 1, 3, 1, 4, 1, 2, 4, 1, 3, 3, 5, 2, 3, 2, 2, 4, 3, 4, 5, 2, 3, 4, 1, 2, 3, 4, 1, 2, 4, 1, 3, 2, 4, 4, 5, 4, 5, 2, 1, 2, 4, 2, 4, 3, 4, 1, 2, 3, 4, 1, 3, 1, 2, 3, 4, 5, 2, 4, 5, 4, 4, 5, 2, 3, 1, 2, 3, 4, 5, 1, 2, 3, 2, 4, 1, 2, 3, 4, 4, 2, 3, 1, 3, 4, 5, 3, 1, 2, 3, 4, 5, 1, 3, 4, 5, 1, 3, 5], \"Freq\": [0.31008771442544447, 0.31008771442544447, 0.6201754288508889, 0.3007446051294058, 0.3007446051294058, 0.6014892102588116, 0.2179919762247475, 0.2179919762247475, 0.435983952449495, 0.2179919762247475, 0.26996775312180393, 0.5399355062436079, 0.54267161871847, 0.271335809359235, 0.271335809359235, 0.4858985186489542, 0.32393234576596946, 0.16196617288298473, 0.1901631980205214, 0.3803263960410428, 0.1901631980205214, 0.1901631980205214, 0.21762008141223463, 0.6528602442367039, 0.24584380117748947, 0.49168760235497894, 0.7163541810085384, 0.3153494329688933, 0.6306988659377866, 0.127923796945752, 0.3837713908372561, 0.127923796945752, 0.3837713908372561, 0.5419042677523742, 0.2709521338761871, 0.4186368088076145, 0.4186368088076145, 0.20931840440380725, 0.7173221168955589, 0.35866105844777946, 0.2698269536031376, 0.2698269536031376, 0.5396539072062752, 0.7615839440924683, 0.26345843910544997, 0.7903753173163499, 0.7373985393511345, 0.26286872136827866, 0.5257374427365573, 0.26286872136827866, 0.38464620048322423, 0.38464620048322423, 0.1970167054876241, 0.1970167054876241, 0.3940334109752482, 0.151050572475378, 0.453151717426134, 0.302101144950756, 0.151050572475378, 0.151050572475378, 0.5736659127323432, 0.2868329563661716, 0.31291298660119427, 0.6258259732023885, 0.2504632501117732, 0.2504632501117732, 0.5009265002235463, 0.17359166676793253, 0.5207750003037976, 0.17359166676793253, 0.3151621622246646, 0.6303243244493292, 0.33992822175422316, 0.16996411087711158, 0.16996411087711158, 0.16996411087711158, 0.4694617350960164, 0.31297449006401096, 0.15648724503200548, 0.2549852602948779, 0.7649557808846336, 0.5561078264661258, 0.1853692754887086, 0.6005458164364722, 0.3002729082182361, 0.624958436527306, 0.20831947884243532, 0.20831947884243532, 0.20831947884243532, 0.19007685923075093, 0.7603074369230037, 0.19007685923075093, 0.29559882010924177, 0.5911976402184835, 0.29559882010924177, 0.33285062696403594, 0.6657012539280719, 0.24255349989956992, 0.08085116663318997, 0.16170233326637995, 0.08085116663318997, 0.4042558331659499, 0.2855170719795763, 0.09517235732652544, 0.09517235732652544, 0.2855170719795763, 0.3806894293061018, 0.41751465344536337, 0.20875732672268169, 0.20875732672268169, 0.4064106502229627, 0.4064106502229627, 0.164611048324848, 0.658444193299392, 0.164611048324848, 0.1636286002226699, 0.3272572004453398, 0.1636286002226699, 0.1636286002226699, 0.1636286002226699, 0.11719375837769386, 0.5859687918884693, 0.11719375837769386, 0.11719375837769386, 0.4604431844196158, 0.2302215922098079, 0.2302215922098079, 0.20701964794528746, 0.6210589438358624, 0.20701964794528746, 0.7498079129572895, 0.2551704554733213, 0.5103409109466426, 0.2551704554733213, 0.2703078883376468, 0.5406157766752936, 0.2625029387024136, 0.1312514693512068, 0.1312514693512068, 0.39375440805362033, 0.25633178836132203, 0.25633178836132203, 0.5126635767226441, 0.39941823261405374, 0.39941823261405374, 0.24742932196055756, 0.4948586439211151, 0.5297336449575433, 0.17657788165251442, 0.17657788165251442, 0.17657788165251442, 0.4679375246790834, 0.2339687623395417, 0.14331863272139586, 0.14331863272139586, 0.42995589816418756, 0.2866372654427917, 0.31176230308128283, 0.6235246061625657, 0.23888663505329813, 0.23888663505329813, 0.7166599051598943, 0.2727923987123253, 0.2727923987123253, 0.5455847974246506, 0.2286227198150086, 0.2286227198150086, 0.4572454396300172, 0.2286227198150086, 0.6701612469685034, 0.16754031174212586, 0.08377015587106293, 0.08377015587106293, 0.2585440938125315, 0.517088187625063, 0.2585440938125315, 0.6214537845462391, 0.31072689227311956, 0.31179672161044414, 0.31179672161044414, 0.6235934432208883, 0.6521727083393173, 0.13325730722061566, 0.13325730722061566, 0.13325730722061566, 0.2665146144412313, 0.39977192166184694, 0.1710552194765352, 0.1710552194765352, 0.5131656584296056, 0.58926138509156, 0.29463069254578, 0.29463069254578, 0.31575485808502723, 0.10525161936167575, 0.31575485808502723, 0.2105032387233515, 0.6261589266213646, 0.3130794633106823, 0.32726170572197855, 0.32726170572197855, 0.18547501448525375, 0.18547501448525375, 0.18547501448525375, 0.5564250434557613, 0.2707112536012382, 0.5414225072024764, 0.24094092427674074, 0.7228227728302222, 0.24094092427674074, 0.2676709703445277, 0.5353419406890554, 0.24192521779786366, 0.4838504355957273, 0.24192521779786366, 0.7518434679865912, 0.291024017951709, 0.582048035903418, 0.9389421875213498, 0.5891359700780027, 0.39275731338533515, 0.6352254164008232, 0.3176127082004116, 0.30109121180898396, 0.6021824236179679, 0.31011707324684096, 0.31011707324684096, 0.103372357748947, 0.31011707324684096, 0.34288361814566387, 0.34288361814566387, 0.17144180907283194, 0.2986430523723928, 0.5972861047447856, 0.29953989816370635, 0.5990797963274127, 0.6364351699574902, 0.4242901133049934, 0.18729965016439543, 0.18729965016439543, 0.5618989504931863, 0.18729965016439543, 0.3220388657058125, 0.644077731411625, 0.3220388657058125, 0.3123901103890417, 0.3123901103890417, 0.6247802207780834, 0.41095627054635586, 0.41095627054635586, 0.19113778778754972, 0.19113778778754972, 0.5734133633626493, 0.19113778778754972, 0.3011103627323593, 0.6022207254647186, 0.7909177521823838, 0.6615346302730752, 0.22051154342435844, 0.6530149566818674, 0.31475462172218827, 0.6295092434443765, 0.31475462172218827, 0.5874256038245074, 0.2937128019122537, 0.05696774357217332, 0.11393548714434663, 0.11393548714434663, 0.28483871786086656, 0.45574194857738654, 0.9092337485815931, 0.6870134903581724, 0.22900449678605744, 0.44111773784257113, 0.22055886892128557, 0.22055886892128557, 0.5974588727437529, 0.14936471818593822, 0.14936471818593822, 0.29872943637187643, 0.5192077754370227, 0.3461385169580151, 0.22823549706317584, 0.22823549706317584, 0.45647099412635167, 0.283863120820795, 0.56772624164159, 0.7830746708367327, 0.26102489027891085, 0.3995561769754101, 0.19977808848770506, 0.19977808848770506, 0.13918265006394262, 0.13918265006394262, 0.41754795019182783, 0.27836530012788524, 0.668403366470762, 0.09548619521010887, 0.09548619521010887, 0.09548619521010887, 0.09548619521010887, 0.38944906277857877, 0.38944906277857877, 0.10015985442642412, 0.20031970885284825, 0.20031970885284825, 0.10015985442642412, 0.4006394177056965, 0.1795539969488284, 0.5386619908464851, 0.1795539969488284, 0.24057305635964085, 0.24057305635964085, 0.24057305635964085, 0.4811461127192817, 0.20445298855256908, 0.40890597710513815, 0.40890597710513815, 0.26301989438589923, 0.13150994719294962, 0.13150994719294962, 0.39452984157884885, 0.13150994719294962, 0.19843075791234416, 0.19843075791234416, 0.5952922737370324, 0.5606890014856626, 0.2803445007428313, 0.2803445007428313, 0.2984094472902248, 0.5968188945804496, 0.1697522619070499, 0.3395045238140998, 0.1697522619070499, 0.1697522619070499, 0.3395045238140998, 0.34937783248729876, 0.34937783248729876, 0.34937783248729876, 0.5638027196775705, 0.08054324566822435, 0.1610864913364487, 0.08054324566822435, 0.36230839641056656, 0.7246167928211331, 0.6673607600095478, 0.3336803800047739, 0.28910681459240395, 0.28910681459240395, 0.5782136291848079, 0.22214916486138211, 0.6664474945841463, 0.25928465502246995, 0.5185693100449399, 0.6968609376640239, 0.19738775573346856, 0.5921632672004057, 0.19738775573346856, 0.5581860080271634, 0.18606200267572115, 0.18606200267572115, 0.18606200267572115, 0.19039710694852036, 0.7615884277940814, 0.17786132930760373, 0.5335839879228111, 0.17786132930760373, 0.17786132930760373, 0.19374627336354752, 0.19374627336354752, 0.7749850934541901, 0.5065635765296879, 0.16885452550989594, 0.16885452550989594, 0.08442726275494797, 0.08442726275494797, 0.5876317701944315, 0.29381588509721573, 0.12402238526858368, 0.744134311611502, 0.12402238526858368, 0.22246249284140765, 0.4449249856828153, 0.22246249284140765, 0.21624958833861763, 0.6487487650158529, 0.21624958833861763, 0.5988835754135534, 0.2994417877067767, 0.20662094480953994, 0.6198628344286198, 0.7948600047589292, 0.7069883612526207, 0.17778367802310652, 0.5333510340693196, 0.17778367802310652, 0.2417372986304844, 0.1208686493152422, 0.4834745972609688, 0.1208686493152422, 0.3520376891334411, 0.7040753782668822, 0.6712416112958108, 0.3356208056479054, 0.25465984866511027, 0.25465984866511027, 0.5093196973302205, 0.6409861225290044, 0.3204930612645022, 0.7392692426586445, 0.2464230808862148, 0.7423636742284583, 0.37118183711422914, 0.6652251860408281, 0.2463133985152771, 0.4926267970305542, 0.2646638529257526, 0.2646638529257526, 0.5293277058515052, 0.1902485686345238, 0.1902485686345238, 0.5707457059035714, 0.39796335684896955, 0.13265445228298983, 0.39796335684896955, 0.13265445228298983, 0.2860301470388134, 0.5720602940776268, 0.2860301470388134, 0.6539419440475336, 0.21798064801584452, 0.679539327429948, 0.339769663714974, 0.6083659109400901, 0.30418295547004504, 0.3155111342177531, 0.6310222684355062, 0.9403783616220396, 0.25157136598452906, 0.5031427319690581, 0.25157136598452906, 0.534087640113772, 0.35605842674251464, 0.6488596960179415, 0.32442984800897073, 0.16267600037097873, 0.32535200074195747, 0.48802800111293626, 0.16267600037097873, 0.6477841352423889, 0.4318560901615926, 0.18642628929248395, 0.24856838572331194, 0.062142096430827985, 0.31071048215413993, 0.18642628929248395, 0.33002139921647344, 0.33002139921647344, 0.33002139921647344, 0.8815249514782059, 0.5164872387717504, 0.2582436193858752, 0.1887973214450184, 0.5663919643350552, 0.30541321270043686, 0.4072176169339158, 0.10180440423347895, 0.10180440423347895, 0.10180440423347895, 0.1603363927060113, 0.8016819635300566, 0.1603363927060113, 0.3737901158736798, 0.7475802317473595, 0.10879852806358323, 0.5439926403179162, 0.21759705612716645, 0.10879852806358323, 0.9013095012918275, 0.26593487905368457, 0.5318697581073691, 0.6976479891482856, 0.13952959782965713, 0.13952959782965713, 0.13952959782965713, 0.6899103314677677, 0.6971130331248567, 0.2323710110416189, 0.2323710110416189, 0.7085526044941295, 0.17713815112353237, 0.15402102703898063, 0.15402102703898063, 0.6160841081559225, 0.15402102703898063, 0.6385969737682377, 0.2128656579227459, 0.2128656579227459], \"Term\": [\"10\", \"10\", \"10\", \"accused\", \"accused\", \"accused\", \"act\", \"act\", \"act\", \"act\", \"adelaide\", \"adelaide\", \"ahead\", \"ahead\", \"ahead\", \"anti\", \"anti\", \"anti\", \"appeal\", \"appeal\", \"appeal\", \"appeal\", \"arsenal\", \"arsenal\", \"attack\", \"attack\", \"aussie\", \"awards\", \"awards\", \"back\", \"back\", \"back\", \"back\", \"backs\", \"backs\", \"ban\", \"ban\", \"ban\", \"battle\", \"battle\", \"begins\", \"begins\", \"begins\", \"bid\", \"big\", \"big\", \"boost\", \"break\", \"break\", \"break\", \"cairns\", \"cairns\", \"call\", \"call\", \"call\", \"calls\", \"calls\", \"calls\", \"calls\", \"calls\", \"canberra\", \"canberra\", \"carr\", \"carr\", \"case\", \"case\", \"case\", \"charged\", \"charged\", \"charged\", \"china\", \"china\", \"claim\", \"claim\", \"claim\", \"claim\", \"claims\", \"claims\", \"claims\", \"clash\", \"clash\", \"club\", \"club\", \"coalition\", \"coalition\", \"coast\", \"coast\", \"coast\", \"coast\", \"community\", \"community\", \"community\", \"considers\", \"considers\", \"considers\", \"could\", \"could\", \"council\", \"council\", \"council\", \"council\", \"council\", \"court\", \"court\", \"court\", \"court\", \"court\", \"crash\", \"crash\", \"crash\", \"criticism\", \"criticism\", \"cup\", \"cup\", \"cup\", \"day\", \"day\", \"day\", \"day\", \"day\", \"death\", \"death\", \"death\", \"death\", \"decision\", \"decision\", \"decision\", \"defends\", \"defends\", \"defends\", \"denies\", \"despite\", \"despite\", \"despite\", \"dies\", \"dies\", \"drought\", \"drought\", \"drought\", \"drought\", \"drug\", \"drug\", \"drug\", \"emergency\", \"emergency\", \"end\", \"end\", \"england\", \"england\", \"england\", \"england\", \"ethanol\", \"ethanol\", \"face\", \"face\", \"face\", \"face\", \"fails\", \"fails\", \"federal\", \"federal\", \"federal\", \"fight\", \"fight\", \"fight\", \"final\", \"final\", \"final\", \"final\", \"fire\", \"fire\", \"fire\", \"fire\", \"firefighters\", \"firefighters\", \"firefighters\", \"flooding\", \"flooding\", \"force\", \"force\", \"force\", \"fuel\", \"funds\", \"funds\", \"funds\", \"funds\", \"funds\", \"go\", \"go\", \"go\", \"gold\", \"gold\", \"gold\", \"govt\", \"govt\", \"govt\", \"govt\", \"guilty\", \"guilty\", \"head\", \"head\", \"health\", \"health\", \"health\", \"health\", \"hearing\", \"hearing\", \"hit\", \"hit\", \"hit\", \"home\", \"home\", \"house\", \"house\", \"house\", \"human\", \"impact\", \"impact\", \"industry\", \"injured\", \"injured\", \"inquiry\", \"inquiry\", \"investigation\", \"investigation\", \"iraq\", \"iraq\", \"iraq\", \"iraq\", \"iraqi\", \"iraqi\", \"iraqi\", \"issues\", \"issues\", \"jail\", \"jail\", \"jailed\", \"jailed\", \"killed\", \"killed\", \"killed\", \"killed\", \"korea\", \"korea\", \"korea\", \"land\", \"land\", \"land\", \"landing\", \"landing\", \"leads\", \"leads\", \"leads\", \"leads\", \"least\", \"least\", \"leaves\", \"less\", \"less\", \"likely\", \"low\", \"low\", \"low\", \"makes\", \"makes\", \"man\", \"man\", \"man\", \"man\", \"man\", \"march\", \"masters\", \"masters\", \"match\", \"match\", \"match\", \"may\", \"may\", \"may\", \"may\", \"meeting\", \"meeting\", \"million\", \"million\", \"million\", \"mine\", \"mine\", \"move\", \"move\", \"mp\", \"mp\", \"mp\", \"murder\", \"murder\", \"murder\", \"murder\", \"new\", \"new\", \"new\", \"new\", \"new\", \"north\", \"north\", \"nsw\", \"nsw\", \"nsw\", \"nsw\", \"nsw\", \"offer\", \"offer\", \"offer\", \"opp\", \"opp\", \"opp\", \"opp\", \"patterson\", \"patterson\", \"patterson\", \"plan\", \"plan\", \"plan\", \"plan\", \"plan\", \"plane\", \"plane\", \"plane\", \"play\", \"play\", \"play\", \"players\", \"players\", \"pm\", \"pm\", \"pm\", \"pm\", \"pm\", \"point\", \"point\", \"point\", \"police\", \"police\", \"police\", \"police\", \"policy\", \"policy\", \"predicted\", \"predicted\", \"price\", \"price\", \"price\", \"probe\", \"probe\", \"profit\", \"profit\", \"protect\", \"public\", \"public\", \"public\", \"qantas\", \"qantas\", \"qantas\", \"qantas\", \"qld\", \"qld\", \"race\", \"race\", \"race\", \"race\", \"raid\", \"raid\", \"raid\", \"rain\", \"rain\", \"rain\", \"rain\", \"rain\", \"ready\", \"ready\", \"record\", \"record\", \"record\", \"rejects\", \"rejects\", \"rejects\", \"report\", \"report\", \"report\", \"reports\", \"reports\", \"river\", \"river\", \"rotterdam\", \"ruling\", \"sa\", \"sa\", \"sa\", \"says\", \"says\", \"says\", \"says\", \"scrap\", \"scrap\", \"seat\", \"seat\", \"second\", \"second\", \"second\", \"security\", \"security\", \"show\", \"show\", \"smoking\", \"smoking\", \"spill\", \"stabbing\", \"stabbing\", \"states\", \"states\", \"states\", \"stay\", \"stay\", \"stay\", \"still\", \"still\", \"still\", \"still\", \"support\", \"support\", \"support\", \"takes\", \"takes\", \"tells\", \"tells\", \"third\", \"third\", \"tourist\", \"tourist\", \"trial\", \"troops\", \"troops\", \"troops\", \"turkey\", \"turkey\", \"two\", \"two\", \"un\", \"un\", \"un\", \"un\", \"urged\", \"urged\", \"us\", \"us\", \"us\", \"us\", \"us\", \"vic\", \"vic\", \"vic\", \"violence\", \"visit\", \"visit\", \"wa\", \"wa\", \"war\", \"war\", \"war\", \"war\", \"war\", \"warne\", \"warne\", \"warne\", \"warns\", \"warns\", \"water\", \"water\", \"water\", \"water\", \"weapons\", \"wheat\", \"wheat\", \"win\", \"win\", \"win\", \"win\", \"wine\", \"wins\", \"wins\", \"wins\", \"work\", \"work\", \"world\", \"world\", \"world\", \"world\", \"zimbabwe\", \"zimbabwe\", \"zimbabwe\"]}, \"R\": 30, \"lambda.step\": 0.01, \"plot.opts\": {\"xlab\": \"PC1\", \"ylab\": \"PC2\"}, \"topic.order\": [5, 4, 1, 3, 2]};\n",
              "\n",
              "function LDAvis_load_lib(url, callback){\n",
              "  var s = document.createElement('script');\n",
              "  s.src = url;\n",
              "  s.async = true;\n",
              "  s.onreadystatechange = s.onload = callback;\n",
              "  s.onerror = function(){console.warn(\"failed to load library \" + url);};\n",
              "  document.getElementsByTagName(\"head\")[0].appendChild(s);\n",
              "}\n",
              "\n",
              "if(typeof(LDAvis) !== \"undefined\"){\n",
              "   // already loaded: just create the visualization\n",
              "   !function(LDAvis){\n",
              "       new LDAvis(\"#\" + \"ldavis_el4561402613616058406410064667\", ldavis_el4561402613616058406410064667_data);\n",
              "   }(LDAvis);\n",
              "}else if(typeof define === \"function\" && define.amd){\n",
              "   // require.js is available: use it to load d3/LDAvis\n",
              "   require.config({paths: {d3: \"https://d3js.org/d3.v5\"}});\n",
              "   require([\"d3\"], function(d3){\n",
              "      window.d3 = d3;\n",
              "      LDAvis_load_lib(\"https://cdn.jsdelivr.net/gh/bmabey/pyLDAvis@3.3.1/pyLDAvis/js/ldavis.v3.0.0.js\", function(){\n",
              "        new LDAvis(\"#\" + \"ldavis_el4561402613616058406410064667\", ldavis_el4561402613616058406410064667_data);\n",
              "      });\n",
              "    });\n",
              "}else{\n",
              "    // require.js not available: dynamically load d3 & LDAvis\n",
              "    LDAvis_load_lib(\"https://d3js.org/d3.v5.js\", function(){\n",
              "         LDAvis_load_lib(\"https://cdn.jsdelivr.net/gh/bmabey/pyLDAvis@3.3.1/pyLDAvis/js/ldavis.v3.0.0.js\", function(){\n",
              "                 new LDAvis(\"#\" + \"ldavis_el4561402613616058406410064667\", ldavis_el4561402613616058406410064667_data);\n",
              "            })\n",
              "         });\n",
              "}\n",
              "</script>"
            ],
            "text/plain": [
              "PreparedData(topic_coordinates=              x         y  topics  cluster       Freq\n",
              "topic                                                \n",
              "4     -0.048625  0.122786       1        1  21.282194\n",
              "3     -0.038781 -0.131506       2        1  21.243028\n",
              "0     -0.129175 -0.002359       3        1  20.715112\n",
              "2      0.106071 -0.067347       4        1  18.804670\n",
              "1      0.110510  0.078426       5        1  17.954996, topic_info=      Term       Freq      Total Category  logprob  loglift\n",
              "115    man  17.000000  17.000000  Default  30.0000  30.0000\n",
              "174  trial   6.000000   6.000000  Default  29.0000  29.0000\n",
              "2     fire  11.000000  11.000000  Default  28.0000  28.0000\n",
              "208    bid   5.000000   5.000000  Default  27.0000  27.0000\n",
              "147    new  10.000000  10.000000  Default  26.0000  26.0000\n",
              "..     ...        ...        ...      ...      ...      ...\n",
              "22     opp   1.770070   4.156741   Topic5  -4.8737   0.8636\n",
              "159   face   2.229417   6.977460   Topic5  -4.6430   0.5764\n",
              "199     us   2.809265  16.092151   Topic5  -4.4118  -0.0281\n",
              "74    govt   2.115342   9.501041   Topic5  -4.6955   0.2151\n",
              "163    may   1.915946   6.695022   Topic5  -4.7945   0.4661\n",
              "\n",
              "[235 rows x 6 columns], token_table=      Topic      Freq      Term\n",
              "term                           \n",
              "24        2  0.310088        10\n",
              "24        4  0.310088        10\n",
              "24        5  0.620175        10\n",
              "89        2  0.300745   accused\n",
              "89        4  0.300745   accused\n",
              "...     ...       ...       ...\n",
              "157       4  0.616084     world\n",
              "157       5  0.154021     world\n",
              "148       1  0.638597  zimbabwe\n",
              "148       3  0.212866  zimbabwe\n",
              "148       5  0.212866  zimbabwe\n",
              "\n",
              "[498 rows x 3 columns], R=30, lambda_step=0.01, plot_opts={'xlab': 'PC1', 'ylab': 'PC2'}, topic_order=[5, 4, 1, 3, 2])"
            ]
          },
          "metadata": {},
          "execution_count": 110
        }
      ]
    },
    {
      "cell_type": "markdown",
      "metadata": {
        "id": "Zbg5dhbhbV9z"
      },
      "source": [
        "###We have created our visualization! We can save it in HTML format for later uses."
      ]
    },
    {
      "cell_type": "code",
      "metadata": {
        "id": "RZcyM-NTv9v1"
      },
      "source": [
        "pyLDAvis.save_html(data, 'lda-visualization.html')"
      ],
      "execution_count": null,
      "outputs": []
    }
  ]
}